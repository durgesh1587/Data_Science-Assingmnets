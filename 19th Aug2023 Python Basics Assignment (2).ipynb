{
 "cells": [
  {
   "cell_type": "markdown",
   "id": "1b8d4d05-df15-4330-bd8d-1a79ca3036b2",
   "metadata": {},
   "source": [
    "TOPIC: Python Basics Variable"
   ]
  },
  {
   "cell_type": "markdown",
   "id": "3927baee-002c-4476-85f5-8aa060ff4073",
   "metadata": {},
   "source": [
    "1. Declare two variables, `x` and `y`, and assign them integer values.\n",
    "Swap the values of these variables without using any temporary\n",
    "variable."
   ]
  },
  {
   "cell_type": "code",
   "execution_count": 3,
   "id": "68c944e5-9308-4fd2-af88-bc9ede20d49f",
   "metadata": {},
   "outputs": [
    {
     "name": "stdout",
     "output_type": "stream",
     "text": [
      "After swapping:\n",
      "x = 20\n",
      "y = 10\n"
     ]
    }
   ],
   "source": [
    "x = 10\n",
    "y = 20\n",
    "x, y = y, x\n",
    "\n",
    "print(\"After swapping:\")\n",
    "print(\"x =\", x)\n",
    "print(\"y =\", y)\n"
   ]
  },
  {
   "cell_type": "markdown",
   "id": "05829a65-49b4-4ed7-9078-74b2e702a488",
   "metadata": {},
   "source": [
    "2. Create a program that calculates the area of a rectangle. Take the\n",
    "length and width as inputs from the user and store them in variables.\n",
    "Calculate and display the area."
   ]
  },
  {
   "cell_type": "code",
   "execution_count": 4,
   "id": "42918855-d0f6-46ce-a342-c586bf1fa851",
   "metadata": {},
   "outputs": [
    {
     "name": "stdin",
     "output_type": "stream",
     "text": [
      "Enter the lenth 7.5\n",
      "Enter the width 12\n"
     ]
    },
    {
     "name": "stdout",
     "output_type": "stream",
     "text": [
      "the area of the ractangle is: 90.0\n"
     ]
    }
   ],
   "source": [
    "#inputs for length and width of a rectangle.\n",
    "lenth = float(input(\"Enter the lenth\"))\n",
    "width = float(input(\"Enter the width\"))\n",
    "\n",
    "area = lenth*width\n",
    "print(\"the area of the ractangle is:\",area)"
   ]
  },
  {
   "cell_type": "markdown",
   "id": "86c861e0-d297-4a13-b068-b9ed79ce1a14",
   "metadata": {},
   "source": [
    "3. Write a Python program that converts temperature from Celsius to\n",
    "Fahrenheit. Take the temperature in Celsius as input, store it in a\n",
    "variable, convert it to Fahrenheit, and display the result."
   ]
  },
  {
   "cell_type": "code",
   "execution_count": 2,
   "id": "ebfc9f06-3c72-44ea-a912-5b68db52fab1",
   "metadata": {},
   "outputs": [
    {
     "name": "stdin",
     "output_type": "stream",
     "text": [
      "Enter temprature in celsius 32\n"
     ]
    },
    {
     "name": "stdout",
     "output_type": "stream",
     "text": [
      "Temperature in Fahrenheit: 89.6\n"
     ]
    }
   ],
   "source": [
    "Celsius = float(input(\"Enter temprature in celsius\"))\n",
    "Fahranheit  = (Celsius*9/5)+32\n",
    "print(\"Temperature in Fahrenheit:\",Fahranheit)"
   ]
  },
  {
   "cell_type": "code",
   "execution_count": null,
   "id": "d1a59326-f697-48f9-bced-c8dd7be7434a",
   "metadata": {},
   "outputs": [],
   "source": []
  },
  {
   "cell_type": "markdown",
   "id": "6a261b88-91a0-4177-bb15-a3b1d32608a1",
   "metadata": {},
   "source": [
    "TOPIC: String Based Questions"
   ]
  },
  {
   "cell_type": "markdown",
   "id": "60ef1a82-9643-4445-b1a4-fe23d3048bcb",
   "metadata": {},
   "source": [
    "1. Write a Python program that takes a string as input and prints the\n",
    "length of the string."
   ]
  },
  {
   "cell_type": "code",
   "execution_count": 3,
   "id": "91f33c49-69e4-4145-afc6-a97493af3adc",
   "metadata": {},
   "outputs": [
    {
     "name": "stdin",
     "output_type": "stream",
     "text": [
      "Enter a string: durgesh\n"
     ]
    },
    {
     "name": "stdout",
     "output_type": "stream",
     "text": [
      "The length of the str is : 7\n"
     ]
    }
   ],
   "source": [
    "input_str =input(\"Enter a string:\")\n",
    "length = len(input_str)\n",
    "print(\"The length of the str is :\",length)"
   ]
  },
  {
   "cell_type": "markdown",
   "id": "090537b9-16d6-41b5-af22-077189df519f",
   "metadata": {},
   "source": [
    "2. Create a program that takes a sentence from the user and counts the\n",
    "number of vowels (a, e, i, o, u) in the string."
   ]
  },
  {
   "cell_type": "code",
   "execution_count": 4,
   "id": "db11267e-fb6a-4fe8-a6a1-34ffcc4050f7",
   "metadata": {},
   "outputs": [
    {
     "name": "stdin",
     "output_type": "stream",
     "text": [
      "Enter a sentence:  AIOUE aieou\n"
     ]
    },
    {
     "name": "stdout",
     "output_type": "stream",
     "text": [
      "Number of 'a' vowels: 2\n",
      "Number of 'e' vowels: 2\n",
      "Number of 'i' vowels: 2\n",
      "Number of 'o' vowels: 2\n",
      "Number of 'u' vowels: 2\n",
      "Total number of vowels: 10\n"
     ]
    }
   ],
   "source": [
    "sentence = input(\"Enter a sentence: \")\n",
    "sentence_lower = sentence.lower()\n",
    "\n",
    "count_a = sentence_lower.count(\"a\")\n",
    "count_e = sentence_lower.count(\"e\")\n",
    "count_i = sentence_lower.count(\"i\")\n",
    "count_o = sentence_lower.count(\"o\")\n",
    "count_u = sentence_lower.count(\"u\")\n",
    "\n",
    "total_vowel_count = count_a + count_e + count_i + count_o + count_u\n",
    "\n",
    "print(\"Number of 'a' vowels:\", count_a)\n",
    "print(\"Number of 'e' vowels:\", count_e)\n",
    "print(\"Number of 'i' vowels:\", count_i)\n",
    "print(\"Number of 'o' vowels:\", count_o)\n",
    "print(\"Number of 'u' vowels:\", count_u)\n",
    "print(\"Total number of vowels:\", total_vowel_count)"
   ]
  },
  {
   "cell_type": "markdown",
   "id": "7f8245bd-d853-4593-a8e1-8d2b0f37d112",
   "metadata": {},
   "source": [
    "3. Given a string, reverse the order of characters using string slicing and\n",
    "print the reversed string."
   ]
  },
  {
   "cell_type": "code",
   "execution_count": 21,
   "id": "a6b337aa-60e1-4d15-91fd-270472cc55ab",
   "metadata": {},
   "outputs": [
    {
     "name": "stdin",
     "output_type": "stream",
     "text": [
      "Enter a string:  pwskills\n"
     ]
    },
    {
     "name": "stdout",
     "output_type": "stream",
     "text": [
      "Reversed str: sllikswp\n"
     ]
    }
   ],
   "source": [
    "input_str = input(\"Enter a string: \")\n",
    "reversed_str = input_str[::-1]\n",
    "print(\"Reversed str:\", reversed_str)"
   ]
  },
  {
   "cell_type": "markdown",
   "id": "573a5efb-62f5-4d9c-b528-8862b45b0d63",
   "metadata": {},
   "source": [
    "4. Write a program that takes a string as input and checks if it is a\n",
    "palindrome (reads the same forwards and backwards)."
   ]
  },
  {
   "cell_type": "code",
   "execution_count": 20,
   "id": "96d12558-0bea-40e4-b1e2-a0ef9ce55af3",
   "metadata": {},
   "outputs": [
    {
     "name": "stdin",
     "output_type": "stream",
     "text": [
      "Enter a string:  saas\n"
     ]
    },
    {
     "name": "stdout",
     "output_type": "stream",
     "text": [
      "saas is a palindrome!\n"
     ]
    }
   ],
   "source": [
    "string = input(\"Enter a string: \")\n",
    "original_string = string\n",
    "reversed_string = string[::-1]\n",
    "\n",
    "if original_string == reversed_string:\n",
    "    print(original_string, \"is a palindrome!\")\n",
    "else:\n",
    "    print(original_string, \"is not a palindrome!\")\n"
   ]
  },
  {
   "cell_type": "markdown",
   "id": "ab8392cf-4da1-47a0-8cb7-c114e178990b",
   "metadata": {},
   "source": [
    "5. Create a program that takes a string as input and removes all the spaces from\n",
    "it. Print the modified string without spaces."
   ]
  },
  {
   "cell_type": "code",
   "execution_count": 5,
   "id": "455fcec4-5981-4e67-a252-a88bd9e342da",
   "metadata": {},
   "outputs": [
    {
     "name": "stdin",
     "output_type": "stream",
     "text": [
      "Enter a string without spaces:  saas\n"
     ]
    },
    {
     "name": "stdout",
     "output_type": "stream",
     "text": [
      "String without spaces: saas\n"
     ]
    }
   ],
   "source": [
    "input_string = input(\"Enter a string without spaces: \")\n",
    "string_without_spaces = input_string.replace(\" \", \"\")\n",
    "print(\"String without spaces:\", string_without_spaces)\n"
   ]
  },
  {
   "cell_type": "code",
   "execution_count": null,
   "id": "db7f8f94-80b6-464f-8cb9-5a01c0dc1b21",
   "metadata": {},
   "outputs": [],
   "source": []
  }
 ],
 "metadata": {
  "kernelspec": {
   "display_name": "Python 3 (ipykernel)",
   "language": "python",
   "name": "python3"
  },
  "language_info": {
   "codemirror_mode": {
    "name": "ipython",
    "version": 3
   },
   "file_extension": ".py",
   "mimetype": "text/x-python",
   "name": "python",
   "nbconvert_exporter": "python",
   "pygments_lexer": "ipython3",
   "version": "3.10.8"
  }
 },
 "nbformat": 4,
 "nbformat_minor": 5
}
