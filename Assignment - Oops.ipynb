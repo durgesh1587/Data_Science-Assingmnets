{
  "cells": [
    {
      "cell_type": "code",
      "execution_count": 2,
      "id": "8b6a7b1a-3ff5-4b22-be3e-d3b2d7aa7e3a",
      "metadata": {
        "id": "8b6a7b1a-3ff5-4b22-be3e-d3b2d7aa7e3a"
      },
      "outputs": [],
      "source": [
        "class a :\n",
        "\n",
        "    def test(self):\n",
        "        print(\"this test method is a part of class a\")\n",
        "\n",
        "    def test1(self):\n",
        "        print(\"this is test1 from class a \")"
      ]
    },
    {
      "cell_type": "code",
      "execution_count": 3,
      "id": "8e4d306f-fdb4-47a0-a93d-597f5b21d30b",
      "metadata": {
        "id": "8e4d306f-fdb4-47a0-a93d-597f5b21d30b"
      },
      "outputs": [],
      "source": [
        "obj_a = a()"
      ]
    },
    {
      "cell_type": "code",
      "execution_count": 4,
      "id": "81ef5597-cf96-4ed9-a4f6-21e2e93aca70",
      "metadata": {
        "id": "81ef5597-cf96-4ed9-a4f6-21e2e93aca70",
        "outputId": "b301b32f-99de-41bd-c4cd-cb572a905735",
        "colab": {
          "base_uri": "https://localhost:8080/"
        }
      },
      "outputs": [
        {
          "output_type": "stream",
          "name": "stdout",
          "text": [
            "this test method is a part of class a\n"
          ]
        }
      ],
      "source": [
        "obj_a.test()"
      ]
    },
    {
      "cell_type": "code",
      "execution_count": 5,
      "id": "11ee63d6-433d-48dc-ada0-5dd6771310ba",
      "metadata": {
        "id": "11ee63d6-433d-48dc-ada0-5dd6771310ba"
      },
      "outputs": [],
      "source": [
        "class b(a) :\n",
        "    def test1b(self):\n",
        "        print(\"this is a part of class b \")"
      ]
    },
    {
      "cell_type": "code",
      "execution_count": 6,
      "id": "badaedfe-57d1-43c6-9193-e5afb0f31dbc",
      "metadata": {
        "id": "badaedfe-57d1-43c6-9193-e5afb0f31dbc"
      },
      "outputs": [],
      "source": [
        "obj_b = b()"
      ]
    },
    {
      "cell_type": "code",
      "execution_count": 7,
      "id": "3ce19f61-ba8e-4050-9d4d-614adfd964c5",
      "metadata": {
        "id": "3ce19f61-ba8e-4050-9d4d-614adfd964c5",
        "outputId": "c2ef0976-e3c8-45af-b768-0c6b0b54422c",
        "colab": {
          "base_uri": "https://localhost:8080/"
        }
      },
      "outputs": [
        {
          "output_type": "stream",
          "name": "stdout",
          "text": [
            "this test method is a part of class a\n"
          ]
        }
      ],
      "source": [
        "obj_b.test()"
      ]
    },
    {
      "cell_type": "code",
      "execution_count": 9,
      "id": "5e473fae-e094-4407-99df-16a04ab4c80a",
      "metadata": {
        "id": "5e473fae-e094-4407-99df-16a04ab4c80a",
        "outputId": "cac4fe4b-2999-4e18-a749-1ad72a2cbd90",
        "colab": {
          "base_uri": "https://localhost:8080/"
        }
      },
      "outputs": [
        {
          "output_type": "stream",
          "name": "stdout",
          "text": [
            "this is test1 from class a \n"
          ]
        }
      ],
      "source": [
        "obj_b.test1()"
      ]
    },
    {
      "cell_type": "code",
      "execution_count": 17,
      "id": "59361cd3-c0c4-4ddd-abac-cbe3275ade5f",
      "metadata": {
        "id": "59361cd3-c0c4-4ddd-abac-cbe3275ade5f"
      },
      "outputs": [],
      "source": [
        "class lecture:\n",
        "\n",
        "    def topic(self):\n",
        "        print(\"todays class we are discussing about inheritance condept in oops\")\n",
        "\n",
        "    def timing(self):\n",
        "        print(\"timing for todays class is 9 AM IST\")\n",
        "\n",
        "    def end_time(self):\n",
        "        print(\"today i will try to end class bit early\")"
      ]
    },
    {
      "cell_type": "code",
      "execution_count": 18,
      "id": "6e3dd2de-883e-4e9e-98a0-4a7089af1627",
      "metadata": {
        "id": "6e3dd2de-883e-4e9e-98a0-4a7089af1627"
      },
      "outputs": [],
      "source": [
        "class student(lecture):\n",
        "\n",
        "    def student_details(self):\n",
        "        print(\"this class will give you a student details\")"
      ]
    },
    {
      "cell_type": "code",
      "execution_count": 19,
      "id": "c2ad2a89-0f29-4410-86c4-e33f47b4186d",
      "metadata": {
        "id": "c2ad2a89-0f29-4410-86c4-e33f47b4186d"
      },
      "outputs": [],
      "source": [
        "naval = student()"
      ]
    },
    {
      "cell_type": "code",
      "execution_count": 20,
      "id": "38c86e7f-5560-464a-b597-c88a74819f1a",
      "metadata": {
        "id": "38c86e7f-5560-464a-b597-c88a74819f1a",
        "outputId": "c0b8b6e3-d92a-4e36-b785-3577784639be",
        "colab": {
          "base_uri": "https://localhost:8080/"
        }
      },
      "outputs": [
        {
          "output_type": "stream",
          "name": "stdout",
          "text": [
            "todays class we are discussing about inheritance condept in oops\n"
          ]
        }
      ],
      "source": [
        "naval.topic()"
      ]
    },
    {
      "cell_type": "code",
      "execution_count": 21,
      "id": "02efc8a4-f995-4f85-87d2-620ccc0f61fa",
      "metadata": {
        "id": "02efc8a4-f995-4f85-87d2-620ccc0f61fa",
        "outputId": "2fc2966c-e89b-4b28-f89e-cd5541c22dc1",
        "colab": {
          "base_uri": "https://localhost:8080/"
        }
      },
      "outputs": [
        {
          "output_type": "stream",
          "name": "stdout",
          "text": [
            "timing for todays class is 9 AM IST\n"
          ]
        }
      ],
      "source": [
        "satish = student()\n",
        "satish.timing()"
      ]
    },
    {
      "cell_type": "code",
      "execution_count": 22,
      "id": "03932972-a58b-46e5-a3f8-ffc43c84ce53",
      "metadata": {
        "id": "03932972-a58b-46e5-a3f8-ffc43c84ce53"
      },
      "outputs": [],
      "source": [
        "class teacher(student):\n",
        "    def details(self):\n",
        "        print(\"this will give you a details about teacher\")"
      ]
    },
    {
      "cell_type": "code",
      "execution_count": 23,
      "id": "fff36c1b-f1e9-467e-b29f-c304aa9feec9",
      "metadata": {
        "id": "fff36c1b-f1e9-467e-b29f-c304aa9feec9",
        "outputId": "96f981a4-8322-4184-9fdd-4ff3b6757270",
        "colab": {
          "base_uri": "https://localhost:8080/"
        }
      },
      "outputs": [
        {
          "output_type": "stream",
          "name": "stdout",
          "text": [
            "timing for todays class is 9 AM IST\n"
          ]
        }
      ],
      "source": [
        "sudh = teacher()\n",
        "sudh.timing()"
      ]
    },
    {
      "cell_type": "code",
      "execution_count": 24,
      "id": "a5e8c94b-de62-4ef5-8eba-81259d83dd3d",
      "metadata": {
        "id": "a5e8c94b-de62-4ef5-8eba-81259d83dd3d"
      },
      "outputs": [],
      "source": [
        "class lecture:\n",
        "    def topic(self):\n",
        "        print(\"todays class we are discussing about inheritance condept in oops\")\n",
        "\n",
        "    def timing(self):\n",
        "        print(\"timing for todays class is 9 AM IST\")\n",
        "\n",
        "    def end_time(self):\n",
        "        print(\"today i will try to end class bit early\")"
      ]
    },
    {
      "cell_type": "code",
      "execution_count": 25,
      "id": "2007141c-1b71-4cd4-9bed-a3cd8d851baa",
      "metadata": {
        "id": "2007141c-1b71-4cd4-9bed-a3cd8d851baa"
      },
      "outputs": [],
      "source": [
        "class student:\n",
        "\n",
        "    def student_details(self):\n",
        "        print(\"this class will give you a student details\")\n",
        "\n",
        "    def timing(self):\n",
        "        print(\"this is a timing fun from student class\")\n",
        ""
      ]
    },
    {
      "cell_type": "code",
      "execution_count": 26,
      "id": "272860d3-1fac-475b-8c09-0490069224bc",
      "metadata": {
        "id": "272860d3-1fac-475b-8c09-0490069224bc"
      },
      "outputs": [],
      "source": [
        "class teacher(lecture,student):\n",
        "    def details(self):\n",
        "        print(\"this will give you a details about teacher\")"
      ]
    },
    {
      "cell_type": "code",
      "execution_count": 27,
      "id": "f4a9ae16-f0e3-4a4a-a003-38773611cd2a",
      "metadata": {
        "id": "f4a9ae16-f0e3-4a4a-a003-38773611cd2a"
      },
      "outputs": [],
      "source": [
        "krish = teacher()"
      ]
    },
    {
      "cell_type": "code",
      "execution_count": 28,
      "id": "6dc85f37-219e-4c72-927c-9aebb550fea9",
      "metadata": {
        "id": "6dc85f37-219e-4c72-927c-9aebb550fea9",
        "outputId": "1bd77aa8-8d81-4035-af93-555e4fa94796",
        "colab": {
          "base_uri": "https://localhost:8080/"
        }
      },
      "outputs": [
        {
          "output_type": "stream",
          "name": "stdout",
          "text": [
            "timing for todays class is 9 AM IST\n"
          ]
        }
      ],
      "source": [
        "krish.timing()"
      ]
    },
    {
      "cell_type": "code",
      "execution_count": 29,
      "id": "8bcbac88-9172-4a31-a191-9c4b9a1c6eac",
      "metadata": {
        "id": "8bcbac88-9172-4a31-a191-9c4b9a1c6eac",
        "outputId": "dc277b3a-2029-4550-db41-a68c88607c5b",
        "colab": {
          "base_uri": "https://localhost:8080/"
        }
      },
      "outputs": [
        {
          "output_type": "stream",
          "name": "stdout",
          "text": [
            "this class will give you a student details\n"
          ]
        }
      ],
      "source": [
        "krish.student_details()"
      ]
    },
    {
      "cell_type": "markdown",
      "id": "86b47d4f-860e-4702-83a0-0145887ab41a",
      "metadata": {
        "id": "86b47d4f-860e-4702-83a0-0145887ab41a"
      },
      "source": [
        "Problem 1: Bank Account Create a class representing a bank account with attributes like account number, account holder name, and balance. Implement methods to deposit and withdraw money from the account.\n",
        "\n",
        "Problem 2: Employee Management Create a class representing an employee with attributes like employee ID, name, and salary. Implement methods to calculate the yearly bonus and display employee details.\n",
        "\n",
        "Problem 3: Vehicle Rental Create a class representing a vehicle rental system. Implement methods to rent a vehicle, return a vehicle, and display available vehicles.\n",
        "\n",
        "Problem 4: Library Catalog Create classes representing a library and a book. Implement methods to add books to the library, borrow books, and display available books.\n",
        "\n",
        "Problem 5: Product Inventory Create classes representing a product and an inventory system. Implement methods to add products to the inventory, update product quantity, and display available products.\n",
        "\n",
        "Problem 6: Shape Calculation Create a class representing a shape with attributes like length, width, and height. Implement methods to calculate the area and perimeter of the shape.\n",
        "\n",
        "Problem 7: Student Management Create a class representing a student with attributes like student ID, name, and grades. Implement methods to calculate the average grade and display student details.\n",
        "\n",
        "Problem 8: Email Management Create a class representing an email with attributes like sender, recipient, and subject. Implement methods to send an email and display email details.\n",
        "\n",
        "Problem 9: Social Media Profile Create a class representing a social media profile with attributes like username and posts. Implement methods to add posts, display posts, and search for posts by keyword.\n",
        "\n",
        "Problem 10: ToDo List Create a class representing a ToDo list with attributes like tasks and due dates. Implement methods to add tasks, mark tasks as completed, and display pending tasks."
      ]
    },
    {
      "cell_type": "code",
      "source": [
        "class BankAccount:\n",
        "    def __init__(self, account_number, account_holder_name, balance=0.0):\n",
        "        self.account_number = account_number\n",
        "        self.account_holder_name = account_holder_name\n",
        "        self.balance = balance\n",
        "\n",
        "    def deposit(self, amount):\n",
        "        if amount > 0:\n",
        "            self.balance += amount\n",
        "            print(f\"Deposited ${amount}. New balance: ${self.balance}\")\n",
        "        else:\n",
        "            print(\"Invalid deposit amount. Please enter a positive value.\")\n",
        "\n",
        "    def withdraw(self, amount):\n",
        "        if amount > 0 and amount <= self.balance:\n",
        "            self.balance -= amount\n",
        "            print(f\"Withdrew ${amount}. New balance: ${self.balance}\")\n",
        "        else:\n",
        "            print(\"Invalid withdrawal amount or insufficient funds.\")\n",
        "\n",
        "    def get_balance(self):\n",
        "        return self.balance\n",
        "\n",
        "account = BankAccount(account_number=\"123456\", account_holder_name=\"Durgesh kharwar\", balance=1000.0)\n",
        "\n",
        "print(f\"Account Holder: {account.account_holder_name}\")\n",
        "print(f\"Account Number: {account.account_number}\")\n",
        "print(f\"Initial Balance: ${account.get_balance()}\")\n",
        "\n",
        "account.deposit(500.0)\n",
        "account.withdraw(200.0)\n",
        "account.withdraw(800.0)\n"
      ],
      "metadata": {
        "id": "mNeEgccuUGiw",
        "outputId": "c6609884-ae7c-4c45-da46-3743c4404262",
        "colab": {
          "base_uri": "https://localhost:8080/"
        }
      },
      "id": "mNeEgccuUGiw",
      "execution_count": 32,
      "outputs": [
        {
          "output_type": "stream",
          "name": "stdout",
          "text": [
            "Account Holder: Durgesh kharwar\n",
            "Account Number: 123456\n",
            "Initial Balance: $1000.0\n",
            "Deposited $500.0. New balance: $1500.0\n",
            "Withdrew $200.0. New balance: $1300.0\n",
            "Withdrew $800.0. New balance: $500.0\n"
          ]
        }
      ]
    },
    {
      "cell_type": "code",
      "source": [
        "#Problem 2: Employee Management Create a class representing an employee with attributes like employee ID, name, and salary. Implement methods to calculate the yearly bonus and display employee details.\n",
        "class Employee:\n",
        "    def __init__(self, employee_id, name, salary):\n",
        "        self.employee_id = employee_id\n",
        "        self.name = name\n",
        "        self.salary = salary\n",
        "\n",
        "    def calculate_bonus(self, percentage):\n",
        "        if percentage < 0:\n",
        "            print(\"Invalid bonus percentage. Please enter a non-negative value.\")\n",
        "            return 0\n",
        "        else:\n",
        "            bonus = (percentage / 100) * self.salary\n",
        "            print(f\"Calculated bonus for {self.name}: ${bonus}\")\n",
        "            return bonus\n",
        "\n",
        "    def display_details(self):\n",
        "        print(f\"Employee ID: {self.employee_id}\")\n",
        "        print(f\"Name: {self.name}\")\n",
        "        print(f\"Salary: ${self.salary}\")\n",
        "\n",
        "employee = Employee(employee_id=\"001\", name=\"Durgesh\", salary=50000.0)\n",
        "\n",
        "employee.display_details()\n",
        "bonus_amount = employee.calculate_bonus(10)  # Calculate a 10% bonus\n",
        "total_salary_with_bonus = employee.salary + bonus_amount\n",
        "\n",
        "print(f\"Total Salary with Bonus: ${total_salary_with_bonus}\")\n"
      ],
      "metadata": {
        "id": "sPrjjIMBURdF",
        "outputId": "dfca5c2e-6d85-4887-9636-b8c6be8d2a5e",
        "colab": {
          "base_uri": "https://localhost:8080/"
        }
      },
      "id": "sPrjjIMBURdF",
      "execution_count": 33,
      "outputs": [
        {
          "output_type": "stream",
          "name": "stdout",
          "text": [
            "Employee ID: 001\n",
            "Name: Durgesh\n",
            "Salary: $50000.0\n",
            "Calculated bonus for Durgesh: $5000.0\n",
            "Total Salary with Bonus: $55000.0\n"
          ]
        }
      ]
    },
    {
      "cell_type": "code",
      "source": [
        "#Problem 3: Vehicle Rental Create a class representing a vehicle rental system. Implement methods to rent a vehicle, return a vehicle, and display available vehicles.\n",
        "class VehicleRentalSystem:\n",
        "    def __init__(self):\n",
        "        self.available_vehicles = set()\n",
        "        self.rented_vehicles = set()\n",
        "\n",
        "    def add_vehicle(self, vehicle):\n",
        "        self.available_vehicles.add(vehicle)\n",
        "        print(f\"Added {vehicle} to available vehicles.\")\n",
        "\n",
        "    def rent_vehicle(self, vehicle):\n",
        "        if vehicle in self.available_vehicles:\n",
        "            self.available_vehicles.remove(vehicle)\n",
        "            self.rented_vehicles.add(vehicle)\n",
        "            print(f\"Rented {vehicle}.\")\n",
        "        else:\n",
        "            print(f\"{vehicle} is not available for rent.\")\n",
        "\n",
        "    def return_vehicle(self, vehicle):\n",
        "        if vehicle in self.rented_vehicles:\n",
        "            self.rented_vehicles.remove(vehicle)\n",
        "            self.available_vehicles.add(vehicle)\n",
        "            print(f\"Returned {vehicle}.\")\n",
        "        else:\n",
        "            print(f\"{vehicle} was not rented from this rental system.\")\n",
        "\n",
        "    def display_available_vehicles(self):\n",
        "        print(\"Available Vehicles:\")\n",
        "        for vehicle in self.available_vehicles:\n",
        "            print(vehicle)\n",
        "\n",
        "class Vehicle:\n",
        "    def __init__(self, vehicle_id, model):\n",
        "        self.vehicle_id = vehicle_id\n",
        "        self.model = model\n",
        "\n",
        "    def __str__(self):\n",
        "        return f\"{self.model} (ID: {self.vehicle_id})\"\n",
        "\n",
        "vehicle1 = Vehicle(vehicle_id=\"001\", model=\"Sedan\")\n",
        "vehicle2 = Vehicle(vehicle_id=\"002\", model=\"SUV\")\n",
        "\n",
        "rental_system = VehicleRentalSystem()\n",
        "\n",
        "rental_system.add_vehicle(vehicle1)\n",
        "rental_system.add_vehicle(vehicle2)\n",
        "\n",
        "rental_system.display_available_vehicles()\n",
        "\n",
        "rental_system.rent_vehicle(vehicle1)\n",
        "rental_system.display_available_vehicles()\n",
        "\n",
        "rental_system.return_vehicle(vehicle1)\n",
        "rental_system.display_available_vehicles()\n"
      ],
      "metadata": {
        "id": "lZ5xQP9PVk0_",
        "outputId": "9b5640ad-01ca-4344-9dd8-fd00a6ccf332",
        "colab": {
          "base_uri": "https://localhost:8080/"
        }
      },
      "id": "lZ5xQP9PVk0_",
      "execution_count": 34,
      "outputs": [
        {
          "output_type": "stream",
          "name": "stdout",
          "text": [
            "Added Sedan (ID: 001) to available vehicles.\n",
            "Added SUV (ID: 002) to available vehicles.\n",
            "Available Vehicles:\n",
            "SUV (ID: 002)\n",
            "Sedan (ID: 001)\n",
            "Rented Sedan (ID: 001).\n",
            "Available Vehicles:\n",
            "SUV (ID: 002)\n",
            "Returned Sedan (ID: 001).\n",
            "Available Vehicles:\n",
            "SUV (ID: 002)\n",
            "Sedan (ID: 001)\n"
          ]
        }
      ]
    },
    {
      "cell_type": "code",
      "source": [
        "#Problem 4: Library Catalog Create classes representing a library and a book. Implement methods to add books to the library, borrow books, and display available books.\n",
        "class Book:\n",
        "    def __init__(self, book_id, title, author):\n",
        "        self.book_id = book_id\n",
        "        self.title = title\n",
        "        self.author = author\n",
        "        self.is_available = True\n",
        "\n",
        "    def __str__(self):\n",
        "        return f\"{self.title} by {self.author} (ID: {self.book_id})\"\n",
        "\n",
        "class LibraryCatalog:\n",
        "    def __init__(self):\n",
        "        self.books = []\n",
        "\n",
        "    def add_book(self, book):\n",
        "        self.books.append(book)\n",
        "        print(f\"Added book: {book}\")\n",
        "\n",
        "    def borrow_book(self, book_id):\n",
        "        for book in self.books:\n",
        "            if book.book_id == book_id and book.is_available:\n",
        "                book.is_available = False\n",
        "                print(f\"Borrowed book: {book}\")\n",
        "                return\n",
        "        print(f\"Book with ID {book_id} is not available for borrowing.\")\n",
        "\n",
        "    def display_available_books(self):\n",
        "        print(\"Available Books:\")\n",
        "        available_books = [book for book in self.books if book.is_available]\n",
        "        if available_books:\n",
        "            for book in available_books:\n",
        "                print(book)\n",
        "        else:\n",
        "            print(\"No available books in the library.\")\n",
        "\n",
        "book1 = Book(book_id=\"001\", title=\"TEk Samandar, Mere Andar\", author=\"Sanjeev Joshi\")\n",
        "book2 = Book(book_id=\"002\", title=\"Gandhi: A Life in Three Campaigns\", author=\"\tM.J. Akbar and K Natwar Singh\")\n",
        "\n",
        "library = LibraryCatalog()\n",
        "library.add_book(book1)\n",
        "library.add_book(book2)\n",
        "library.display_available_books()\n",
        "library.borrow_book(\"001\")\n",
        "library.display_available_books()\n",
        "library.borrow_book(\"002\")\n",
        "library.display_available_books()\n"
      ],
      "metadata": {
        "id": "ykHzspH5V6b4",
        "outputId": "791363e8-9c1b-46fb-a8c9-e9ff14008ac5",
        "colab": {
          "base_uri": "https://localhost:8080/"
        }
      },
      "id": "ykHzspH5V6b4",
      "execution_count": 36,
      "outputs": [
        {
          "output_type": "stream",
          "name": "stdout",
          "text": [
            "Added book: TEk Samandar, Mere Andar by Sanjeev Joshi (ID: 001)\n",
            "Added book: Gandhi: A Life in Three Campaigns by \tM.J. Akbar and K Natwar Singh (ID: 002)\n",
            "Available Books:\n",
            "TEk Samandar, Mere Andar by Sanjeev Joshi (ID: 001)\n",
            "Gandhi: A Life in Three Campaigns by \tM.J. Akbar and K Natwar Singh (ID: 002)\n",
            "Borrowed book: TEk Samandar, Mere Andar by Sanjeev Joshi (ID: 001)\n",
            "Available Books:\n",
            "Gandhi: A Life in Three Campaigns by \tM.J. Akbar and K Natwar Singh (ID: 002)\n",
            "Borrowed book: Gandhi: A Life in Three Campaigns by \tM.J. Akbar and K Natwar Singh (ID: 002)\n",
            "Available Books:\n",
            "No available books in the library.\n"
          ]
        }
      ]
    },
    {
      "cell_type": "code",
      "source": [
        "#Problem 5: Product Inventory Create classes representing a product and an inventory system. Implement methods to add products to the inventory, update product quantity, and display available products.\n",
        "class Product:\n",
        "    def __init__(self, product_id, name, price, quantity):\n",
        "        self.product_id = product_id\n",
        "        self.name = name\n",
        "        self.price = price\n",
        "        self.quantity = quantity\n",
        "\n",
        "    def __str__(self):\n",
        "        return f\"{self.name} (ID: {self.product_id}), Price: ${self.price}, Quantity: {self.quantity}\"\n",
        "\n",
        "class InventorySystem:\n",
        "    def __init__(self):\n",
        "        self.products = []\n",
        "\n",
        "    def add_product(self, product):\n",
        "        self.products.append(product)\n",
        "        print(f\"Added product: {product}\")\n",
        "\n",
        "    def update_quantity(self, product_id, new_quantity):\n",
        "        for product in self.products:\n",
        "            if product.product_id == product_id:\n",
        "                product.quantity = new_quantity\n",
        "                print(f\"Updated quantity for {product}: {new_quantity}\")\n",
        "                return\n",
        "        print(f\"Product with ID {product_id} not found in the inventory.\")\n",
        "\n",
        "    def display_available_products(self):\n",
        "        print(\"Available Products:\")\n",
        "        for product in self.products:\n",
        "            print(product)\n",
        "\n",
        "product1 = Product(product_id=\"001\", name=\"Laptop\", price=1200.0, quantity=10)\n",
        "product2 = Product(product_id=\"002\", name=\"Smartphone\", price=500.0, quantity=20)\n",
        "\n",
        "inventory = InventorySystem()\n",
        "\n",
        "inventory.add_product(product1)\n",
        "inventory.add_product(product2)\n",
        "\n",
        "inventory.display_available_products()\n",
        "\n",
        "inventory.update_quantity(\"001\", 8)\n",
        "inventory.display_available_products()\n",
        "\n",
        "inventory.update_quantity(\"002\", 25)\n",
        "inventory.display_available_products()\n"
      ],
      "metadata": {
        "id": "pqKjc3hCWPD9",
        "outputId": "28dd6015-4ffd-4ae8-e532-ce46884ccc62",
        "colab": {
          "base_uri": "https://localhost:8080/"
        }
      },
      "id": "pqKjc3hCWPD9",
      "execution_count": 37,
      "outputs": [
        {
          "output_type": "stream",
          "name": "stdout",
          "text": [
            "Added product: Laptop (ID: 001), Price: $1200.0, Quantity: 10\n",
            "Added product: Smartphone (ID: 002), Price: $500.0, Quantity: 20\n",
            "Available Products:\n",
            "Laptop (ID: 001), Price: $1200.0, Quantity: 10\n",
            "Smartphone (ID: 002), Price: $500.0, Quantity: 20\n",
            "Updated quantity for Laptop (ID: 001), Price: $1200.0, Quantity: 8: 8\n",
            "Available Products:\n",
            "Laptop (ID: 001), Price: $1200.0, Quantity: 8\n",
            "Smartphone (ID: 002), Price: $500.0, Quantity: 20\n",
            "Updated quantity for Smartphone (ID: 002), Price: $500.0, Quantity: 25: 25\n",
            "Available Products:\n",
            "Laptop (ID: 001), Price: $1200.0, Quantity: 8\n",
            "Smartphone (ID: 002), Price: $500.0, Quantity: 25\n"
          ]
        }
      ]
    },
    {
      "cell_type": "code",
      "source": [
        "#Problem 6: Shape Calculation Create a class representing a shape with attributes like length, width, and height. Implement methods to calculate the area and perimeter of the shape.\n",
        "class Shape:\n",
        "    def __init__(self,length=0,width=0,height=0):\n",
        "        self.length=length\n",
        "        self.width=width\n",
        "        self.height=height\n",
        "\n",
        "    def calculate_area(self):\n",
        "        raise NotImplementedError(\"Subclasses must implement this method\")\n",
        "\n",
        "    def calculate_perimeter(self):\n",
        "        raise NotImplementedError(\"Subclasses must implement this method\")\n",
        "\n",
        "class Rectangle(Shape):\n",
        "    def calculate_area(self):\n",
        "        return self.length *self.width\n",
        "\n",
        "    def calculate_perimeter(self):\n",
        "        return 2 * (self.length+self.width)\n",
        "\n",
        "class Square(Rectangle):\n",
        "    def __init__(self,side_length):\n",
        "        super().__init__(length=side_length,width=side_length)\n",
        "\n",
        "class Triangle(Shape):\n",
        "    def calculate_area(self):\n",
        "        s = (self.length+self.width+self.height) / 2\n",
        "        return (s * (s-self.length) * (s-self.width) * (s-self.height))**0.5\n",
        "\n",
        "    def calculate_perimeter(self):\n",
        "        return self.length+self.width+self.height\n",
        "\n",
        "rectangle = Rectangle(length=5,width=3)\n",
        "print(f\"Rectangle Area: {rectangle.calculate_area()}\")\n",
        "print(f\"Rectangle Perimeter: {rectangle.calculate_perimeter()}\")\n",
        "\n",
        "square = Square(side_length=4)\n",
        "print(f\"Square Area: {square.calculate_area()}\")\n",
        "print(f\"Square Perimeter: {square.calculate_perimeter()}\")\n",
        "\n",
        "triangle = Triangle(length=3, width=4, height=5)\n",
        "print(f\"Triangle Area: {triangle.calculate_area()}\")\n",
        "print(f\"Triangle Perimeter: {triangle.calculate_perimeter()}\")\n"
      ],
      "metadata": {
        "id": "ZOWSFBSnXTpe",
        "outputId": "7fc4f068-1d08-4ed6-d7c3-42314f88f326",
        "colab": {
          "base_uri": "https://localhost:8080/"
        }
      },
      "id": "ZOWSFBSnXTpe",
      "execution_count": 38,
      "outputs": [
        {
          "output_type": "stream",
          "name": "stdout",
          "text": [
            "Rectangle Area: 15\n",
            "Rectangle Perimeter: 16\n",
            "Square Area: 16\n",
            "Square Perimeter: 16\n",
            "Triangle Area: 6.0\n",
            "Triangle Perimeter: 12\n"
          ]
        }
      ]
    },
    {
      "cell_type": "code",
      "source": [
        "#Problem 7: Student Management Create a class representing a student with attributes like student ID, name, and grades. Implement methods to calculate the average grade and display student details\n",
        "class Student:\n",
        "    def __init__(self,student_id,name,grades=[]):\n",
        "        self.student_id=student_id\n",
        "        self.name=name\n",
        "        self.grades=grades\n",
        "\n",
        "    def add_grade(self, grade):\n",
        "        self.grades.append(grade)\n",
        "        print(f\"Added grade {grade}for{self.name}.\")\n",
        "\n",
        "    def calculate_average_grade(self):\n",
        "        if not self.grades:\n",
        "            print(\"No grades available.\")\n",
        "            return 0\n",
        "        return sum(self.grades)/len(self.grades)\n",
        "\n",
        "    def display_student_details(self):\n",
        "        print(f\"Student ID: {self.student_id}\")\n",
        "        print(f\"Name: {self.name}\")\n",
        "        if self.grades:\n",
        "            print(\"Grades:\", \", \".join(map(str,self.grades)))\n",
        "            print(f\"Average Grade: {self.calculate_average_grade()}\")\n",
        "        else:\n",
        "            print(\"No grades available for this student.\")\n",
        "\n",
        "\n",
        "student1 =Student(student_id=\"001\",name=\"Durgesh\",grades=[90, 85, 92])\n",
        "student2 =Student(student_id=\"002\",name=\"Monu\")\n",
        "\n",
        "student1.display_student_details()\n",
        "\n",
        "student1.add_grade(88)\n",
        "student1.display_student_details()\n",
        "\n",
        "student2.display_student_details()\n"
      ],
      "metadata": {
        "id": "DG4d14iAX9gf",
        "outputId": "5ad8449a-b883-47b9-b8da-8baaf87a915a",
        "colab": {
          "base_uri": "https://localhost:8080/"
        }
      },
      "id": "DG4d14iAX9gf",
      "execution_count": 39,
      "outputs": [
        {
          "output_type": "stream",
          "name": "stdout",
          "text": [
            "Student ID: 001\n",
            "Name: Durgesh\n",
            "Grades: 90, 85, 92\n",
            "Average Grade: 89.0\n",
            "Added grade 88forDurgesh.\n",
            "Student ID: 001\n",
            "Name: Durgesh\n",
            "Grades: 90, 85, 92, 88\n",
            "Average Grade: 88.75\n",
            "Student ID: 002\n",
            "Name: Monu\n",
            "No grades available for this student.\n"
          ]
        }
      ]
    },
    {
      "cell_type": "code",
      "source": [
        "#Problem 8: Email Management Create a class representing an email with attributes like sender, recipient, and subject. Implement methods to send an email and display email details.\n",
        "class Email:\n",
        "    def __init__(self,sender,recipient,subject,body):\n",
        "        self.sender=sender\n",
        "        self.recipient=recipient\n",
        "        self.subject=subject\n",
        "        self.body=body\n",
        "        self.is_sent=False\n",
        "\n",
        "    def send_email(self):\n",
        "        if not self.is_sent:\n",
        "            print(f\"Email sent from {self.sender} to {self.recipient}.\")\n",
        "            self.is_sent = True\n",
        "        else:\n",
        "            print(\"This email has already been sent.\")\n",
        "\n",
        "    def display_email_details(self):\n",
        "        print(\"Email Details:\")\n",
        "        print(f\"Sender: {self.sender}\")\n",
        "        print(f\"Recipient: {self.recipient}\")\n",
        "        print(f\"Subject: {self.subject}\")\n",
        "        print(\"Body:\")\n",
        "        print(self.body)\n",
        "        print(f\"Status: {'Sent' if self.is_sent else 'Not Sent'}\")\n",
        "\n",
        "email1 = Email(sender=\"durgesh72@gmail.com\", recipient=\"sonukharwar32@gmail.com\", subject=\"Meeting Tomorrow\", body=\"Hi Durgesh, Let's meet tomorrow at 10 AM.\")\n",
        "email2 = Email(sender=\"monu@example.com\", recipient=\"pwskill@example.com\", subject=\"Project Update\", body=\"Hi Charlie, Here's the latest update on the project.\")\n",
        "\n",
        "email1.display_email_details()\n",
        "email1.send_email()\n",
        "email1.display_email_details()\n",
        "email2.display_email_details()\n",
        "email2.send_email()\n"
      ],
      "metadata": {
        "id": "vezvQqiNYb5O",
        "outputId": "65bad8ff-ab08-4274-b743-02fd4468ef61",
        "colab": {
          "base_uri": "https://localhost:8080/"
        }
      },
      "id": "vezvQqiNYb5O",
      "execution_count": 47,
      "outputs": [
        {
          "output_type": "stream",
          "name": "stdout",
          "text": [
            "Email Details:\n",
            "Sender: durgesh72@gmail.com\n",
            "Recipient: sonukharwar32@gmail.com\n",
            "Subject: Meeting Tomorrow\n",
            "Body:\n",
            "Hi Durgesh, Let's meet tomorrow at 10 AM.\n",
            "Status: Not Sent\n",
            "Email sent from durgesh72@gmail.com to sonukharwar32@gmail.com.\n",
            "Email Details:\n",
            "Sender: durgesh72@gmail.com\n",
            "Recipient: sonukharwar32@gmail.com\n",
            "Subject: Meeting Tomorrow\n",
            "Body:\n",
            "Hi Durgesh, Let's meet tomorrow at 10 AM.\n",
            "Status: Sent\n",
            "Email Details:\n",
            "Sender: monu@example.com\n",
            "Recipient: pwskill@example.com\n",
            "Subject: Project Update\n",
            "Body:\n",
            "Hi Charlie, Here's the latest update on the project.\n",
            "Status: Not Sent\n",
            "Email sent from monu@example.com to pwskill@example.com.\n"
          ]
        }
      ]
    },
    {
      "cell_type": "code",
      "source": [
        "#Problem 9: Social Media Profile Create a class representing a social media profile with attributes like username and posts. Implement methods to add posts, display posts, and search for posts by keyword.\n",
        "class SocialMediaProfile:\n",
        "    def __init__(self,username):\n",
        "        self.username=username\n",
        "        self.posts = []\n",
        "\n",
        "    def add_post(self,content):\n",
        "        post = {\"content\":content,\"author\": self.username}\n",
        "        self.posts.append(post)\n",
        "        print(f\"Post added by {self.username}.\")\n",
        "\n",
        "    def display_posts(self):\n",
        "        if not self.posts:\n",
        "            print(f\"No posts available for {self.username}.\")\n",
        "        else:\n",
        "            print(f\"Posts by {self.username}:\")\n",
        "            for post in self.posts:\n",
        "                print(f\"Author:{post['author']}\")\n",
        "                print(f\"Content:{post['content']}\")\n",
        "                print(\"-----\")\n",
        "\n",
        "    def search_posts(self, keyword):\n",
        "        matching_posts =[post for post in self.posts if keyword.lower() in post[\"content\"].lower()]\n",
        "        if matching_posts:\n",
        "            print(f\"Posts by {self.username} containing '{keyword}':\")\n",
        "            for post in matching_posts:\n",
        "                print(f\"Author: {post['author']}\")\n",
        "                print(f\"Content: {post['content']}\")\n",
        "                print(\"-----\")\n",
        "        else:\n",
        "            print(f\"No posts found for {self.username} containing '{keyword}'.\")\n",
        "\n",
        "profile1 = SocialMediaProfile(username=\"Duregsh\")\n",
        "profile2 = SocialMediaProfile(username=\"Pwskill\")\n",
        "\n",
        "profile1.add_post(\"Having a great day!\")\n",
        "profile1.add_post(\"Exploring new places.\")\n",
        "profile2.add_post(\"Coding is fun!\")\n",
        "profile2.add_post(\"Movie night with friends.\")\n",
        "\n",
        "profile1.display_posts()\n",
        "profile2.display_posts()\n",
        "\n",
        "profile1.search_posts(\"great\")\n",
        "profile2.search_posts(\"coding\")\n",
        "profile2.search_posts(\"beach\")\n"
      ],
      "metadata": {
        "id": "uhm07ZKdZOm8",
        "outputId": "72c171a4-e865-4633-93cf-6834c0880b88",
        "colab": {
          "base_uri": "https://localhost:8080/"
        }
      },
      "id": "uhm07ZKdZOm8",
      "execution_count": 48,
      "outputs": [
        {
          "output_type": "stream",
          "name": "stdout",
          "text": [
            "Post added by Duregsh.\n",
            "Post added by Duregsh.\n",
            "Post added by Pwskill.\n",
            "Post added by Pwskill.\n",
            "Posts by Duregsh:\n",
            "Author:Duregsh\n",
            "Content:Having a great day!\n",
            "-----\n",
            "Author:Duregsh\n",
            "Content:Exploring new places.\n",
            "-----\n",
            "Posts by Pwskill:\n",
            "Author:Pwskill\n",
            "Content:Coding is fun!\n",
            "-----\n",
            "Author:Pwskill\n",
            "Content:Movie night with friends.\n",
            "-----\n",
            "Posts by Duregsh containing 'great':\n",
            "Author: Duregsh\n",
            "Content: Having a great day!\n",
            "-----\n",
            "Posts by Pwskill containing 'coding':\n",
            "Author: Pwskill\n",
            "Content: Coding is fun!\n",
            "-----\n",
            "No posts found for Pwskill containing 'beach'.\n"
          ]
        }
      ]
    },
    {
      "cell_type": "code",
      "source": [
        "#Problem 10: ToDo List Create a class representing a ToDo list with attributes like tasks and due dates. Implement methods to add tasks, mark tasks as completed, and display pending tasks\n",
        "class ToDoList:\n",
        "    def __init__(self):\n",
        "        self.tasks=[]\n",
        "\n",
        "    def add_task(self,task,due_date):\n",
        "        new_task={\"task\":task,\"due_date\":due_date,\"completed\":False}\n",
        "        self.tasks.append(new_task)\n",
        "        print(f\"Task added: '{task}' with due date {due_date}.\")\n",
        "\n",
        "    def mark_task_completed(self,task):\n",
        "        for t in self.tasks:\n",
        "            if t[\"task\"]==task:\n",
        "                t[\"completed\"] = True\n",
        "                print(f\"Task '{task}' marked as completed.\")\n",
        "                return\n",
        "        print(f\"Task '{task}' not found in the ToDo list.\")\n",
        "\n",
        "    def display_pending_tasks(self):\n",
        "        pending_tasks = [task for task in self.tasks if not task[\"completed\"]]\n",
        "        if pending_tasks:\n",
        "            print(\"Pending Tasks:\")\n",
        "            for task in pending_tasks:\n",
        "                print(f\"Task:'{task['task']}',Due Date:{task['due_date']}\")\n",
        "        else:\n",
        "            print(\"No pending tasks in the ToDo list.\")\n",
        "\n",
        "todo_list=ToDoList()\n",
        "\n",
        "todo_list.add_task(\"Write report\", \"2024-03-11\")\n",
        "todo_list.add_task(\"Prepare presentation\", \"2024-03-15\")\n",
        "todo_list.add_task(\"Exercise\", \"2024-03-10\")\n",
        "\n",
        "todo_list.display_pending_tasks()\n",
        "\n",
        "todo_list.mark_task_completed(\"Prepare presentation\")\n",
        "todo_list.display_pending_tasks()\n"
      ],
      "metadata": {
        "id": "ByJIMp-LbFeP",
        "outputId": "7cc9a838-7db0-41a9-bb56-5e4e7af9399f",
        "colab": {
          "base_uri": "https://localhost:8080/"
        }
      },
      "id": "ByJIMp-LbFeP",
      "execution_count": 49,
      "outputs": [
        {
          "output_type": "stream",
          "name": "stdout",
          "text": [
            "Task added: 'Write report' with due date 2024-03-11.\n",
            "Task added: 'Prepare presentation' with due date 2024-03-15.\n",
            "Task added: 'Exercise' with due date 2024-03-10.\n",
            "Pending Tasks:\n",
            "Task:'Write report',Due Date:2024-03-11\n",
            "Task:'Prepare presentation',Due Date:2024-03-15\n",
            "Task:'Exercise',Due Date:2024-03-10\n",
            "Task 'Prepare presentation' marked as completed.\n",
            "Pending Tasks:\n",
            "Task:'Write report',Due Date:2024-03-11\n",
            "Task:'Exercise',Due Date:2024-03-10\n"
          ]
        }
      ]
    },
    {
      "cell_type": "code",
      "source": [],
      "metadata": {
        "id": "tWtqLGvobqnD"
      },
      "id": "tWtqLGvobqnD",
      "execution_count": null,
      "outputs": []
    }
  ],
  "metadata": {
    "kernelspec": {
      "display_name": "Python 3 (ipykernel)",
      "language": "python",
      "name": "python3"
    },
    "language_info": {
      "codemirror_mode": {
        "name": "ipython",
        "version": 3
      },
      "file_extension": ".py",
      "mimetype": "text/x-python",
      "name": "python",
      "nbconvert_exporter": "python",
      "pygments_lexer": "ipython3",
      "version": "3.10.8"
    },
    "colab": {
      "provenance": []
    }
  },
  "nbformat": 4,
  "nbformat_minor": 5
}