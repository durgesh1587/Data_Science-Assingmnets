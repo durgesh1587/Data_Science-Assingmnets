{
 "cells": [
  {
   "cell_type": "markdown",
   "id": "fb6118a3-13ad-4ee5-8e1b-1188fcbe6375",
   "metadata": {},
   "source": [
    "1. Write a program to reverse a string."
   ]
  },
  {
   "cell_type": "code",
   "execution_count": 46,
   "id": "3c07c5c4-fbec-401c-8648-3ef4fdb0d54b",
   "metadata": {},
   "outputs": [],
   "source": [
    "a = \" pwskills\""
   ]
  },
  {
   "cell_type": "code",
   "execution_count": 47,
   "id": "8c17e36e-1184-4c50-9f88-32a5da6d01f2",
   "metadata": {},
   "outputs": [
    {
     "data": {
      "text/plain": [
       "'sllikswp '"
      ]
     },
     "execution_count": 47,
     "metadata": {},
     "output_type": "execute_result"
    }
   ],
   "source": [
    "a[::-1]"
   ]
  },
  {
   "cell_type": "markdown",
   "id": "bfa4fce6-8bf7-474e-b3fa-6744f49bf614",
   "metadata": {},
   "source": [
    "2. Check if a string is a palindrome."
   ]
  },
  {
   "cell_type": "code",
   "execution_count": 48,
   "id": "2b17256e-5009-400b-bc4c-665e36c06baa",
   "metadata": {},
   "outputs": [],
   "source": [
    "palindrom = 'A man a plan a canal Panama'"
   ]
  },
  {
   "cell_type": "code",
   "execution_count": 49,
   "id": "946147a6-0d20-461e-9dba-5d9fb1ec6374",
   "metadata": {},
   "outputs": [
    {
     "data": {
      "text/plain": [
       "'amanaP lanac a nalp a nam A'"
      ]
     },
     "execution_count": 49,
     "metadata": {},
     "output_type": "execute_result"
    }
   ],
   "source": [
    "palindrom[::-1]"
   ]
  },
  {
   "cell_type": "markdown",
   "id": "1dc0fe8b-4d8f-4456-ae70-935d6ccce554",
   "metadata": {},
   "source": [
    "Convert a string to lowercase."
   ]
  },
  {
   "cell_type": "code",
   "execution_count": 50,
   "id": "537e6e93-b48c-45e0-9161-ccd0a10e8e91",
   "metadata": {},
   "outputs": [
    {
     "data": {
      "text/plain": [
       "'a man a plan a canal panama'"
      ]
     },
     "execution_count": 50,
     "metadata": {},
     "output_type": "execute_result"
    }
   ],
   "source": [
    "palindrom.lower()"
   ]
  },
  {
   "cell_type": "markdown",
   "id": "6b9b779b-e001-41ff-9547-8ee610c37cc1",
   "metadata": {},
   "source": [
    "Count the number of vowels in a string."
   ]
  },
  {
   "cell_type": "code",
   "execution_count": 51,
   "id": "e52e8aba-d3ef-43eb-bba7-f2afeda1a738",
   "metadata": {},
   "outputs": [
    {
     "data": {
      "text/plain": [
       "2"
      ]
     },
     "execution_count": 51,
     "metadata": {},
     "output_type": "execute_result"
    }
   ],
   "source": [
    "palindrom.count(\"m\")"
   ]
  },
  {
   "cell_type": "markdown",
   "id": "3eac3f8b-d54d-4444-b1de-4f6032d919e0",
   "metadata": {},
   "source": [
    "6. Count the number of consonants in a string."
   ]
  },
  {
   "cell_type": "code",
   "execution_count": 52,
   "id": "8cdcc48c-10c4-4238-aca1-820eac9a298d",
   "metadata": {},
   "outputs": [],
   "source": [
    "a= \" i am  durgesh \"\n",
    "b = \" i am 30 year old\""
   ]
  },
  {
   "cell_type": "code",
   "execution_count": 53,
   "id": "47587d06-52bb-4d6d-9089-3136410563fb",
   "metadata": {},
   "outputs": [],
   "source": [
    "c=a+b"
   ]
  },
  {
   "cell_type": "code",
   "execution_count": 54,
   "id": "bc0f8487-369b-40ab-8ab8-3cece2a19f15",
   "metadata": {},
   "outputs": [
    {
     "data": {
      "text/plain": [
       "' i am  durgesh  i am 30 year old'"
      ]
     },
     "execution_count": 54,
     "metadata": {},
     "output_type": "execute_result"
    }
   ],
   "source": [
    "c"
   ]
  },
  {
   "cell_type": "markdown",
   "id": "ecdbee78-544b-4dc2-be67-51d9feaad33e",
   "metadata": {},
   "source": [
    "7. Remove all whitespaces from a string."
   ]
  },
  {
   "cell_type": "code",
   "execution_count": 55,
   "id": "b5689358-fbbd-494c-81b5-126349211932",
   "metadata": {},
   "outputs": [],
   "source": [
    "string = \"  Hello,   World!  \"\n",
    "no_whitespace = string.replace(\" \",\"\")"
   ]
  },
  {
   "cell_type": "code",
   "execution_count": 56,
   "id": "82f9f0f2-edc4-471e-8817-60676f644f66",
   "metadata": {},
   "outputs": [
    {
     "data": {
      "text/plain": [
       "'Hello,World!'"
      ]
     },
     "execution_count": 56,
     "metadata": {},
     "output_type": "execute_result"
    }
   ],
   "source": [
    "no_whitespace"
   ]
  },
  {
   "cell_type": "code",
   "execution_count": 57,
   "id": "7cef3676-dc84-4b47-9d29-e7f77b12f2e4",
   "metadata": {},
   "outputs": [
    {
     "name": "stdout",
     "output_type": "stream",
     "text": [
      "The length of the string is: 13\n"
     ]
    }
   ],
   "source": [
    "def string_length(input_string):\n",
    "    count = 0\n",
    "    for char in input_string:\n",
    "        count += 1\n",
    "    return count\n",
    "test_string = \"Hello, World!\"\n",
    "result = string_length(test_string)\n",
    "print(f\"The length of the string is: {result}\")\n"
   ]
  },
  {
   "cell_type": "markdown",
   "id": "0b1e379d-31e3-4b5f-a237-01012b355c3b",
   "metadata": {},
   "source": [
    "8. Find the length of a string without using the `len()` function."
   ]
  },
  {
   "cell_type": "code",
   "execution_count": 58,
   "id": "857a063e-ac3d-4a2d-9c7e-f1fe53714a02",
   "metadata": {},
   "outputs": [],
   "source": [
    "length = \"Hello World!\""
   ]
  },
  {
   "cell_type": "code",
   "execution_count": 59,
   "id": "4025ac03-a023-4c44-84bc-a41ada8ec099",
   "metadata": {},
   "outputs": [],
   "source": [
    "def string_length(length):\n",
    "    count = 0\n",
    "    while length:\n",
    "        count += 1\n",
    "        length = length[1:]\n",
    "    return count"
   ]
  },
  {
   "cell_type": "code",
   "execution_count": 60,
   "id": "fc86a36f-74d1-4b28-a127-7881f4aac621",
   "metadata": {},
   "outputs": [
    {
     "data": {
      "text/plain": [
       "'Hello World!'"
      ]
     },
     "execution_count": 60,
     "metadata": {},
     "output_type": "execute_result"
    }
   ],
   "source": [
    "length"
   ]
  },
  {
   "cell_type": "markdown",
   "id": "e581b8f6-d731-465d-af11-5451c934e655",
   "metadata": {},
   "source": [
    "9. Check if a string contains a specific word."
   ]
  },
  {
   "cell_type": "code",
   "execution_count": 61,
   "id": "71bca9d9-36af-4763-8a61-5e5eeef568cc",
   "metadata": {},
   "outputs": [
    {
     "name": "stdout",
     "output_type": "stream",
     "text": [
      "'hello world this is a test' contains 'test'.\n"
     ]
    }
   ],
   "source": [
    "def contains_word(original_string, search_word):\n",
    "    return search_word in original_string\n",
    "\n",
    "test_str = \"hello world this is a test\"\n",
    "search_word = \"test\"\n",
    "\n",
    "if contains_word(test_str, search_word):\n",
    "    print(f\"'{test_str}' contains '{search_word}'.\")\n",
    "else:\n",
    "    print(f\"'{test_str}' does not contain '{search_word}'.\")\n"
   ]
  },
  {
   "cell_type": "code",
   "execution_count": 62,
   "id": "86663db7-68a5-41bf-9e8b-e5acd99bf3d9",
   "metadata": {},
   "outputs": [
    {
     "data": {
      "text/plain": [
       "' i am  durgesh '"
      ]
     },
     "execution_count": 62,
     "metadata": {},
     "output_type": "execute_result"
    }
   ],
   "source": [
    "a"
   ]
  },
  {
   "cell_type": "code",
   "execution_count": 63,
   "id": "8eba1a36-d517-46e4-8571-25c3c63b29a5",
   "metadata": {},
   "outputs": [
    {
     "data": {
      "text/plain": [
       "['i', 'am', 'durgesh']"
      ]
     },
     "execution_count": 63,
     "metadata": {},
     "output_type": "execute_result"
    }
   ],
   "source": [
    "a.split()"
   ]
  },
  {
   "cell_type": "markdown",
   "id": "6cb41481-9949-4488-b577-89c73ef8b66f",
   "metadata": {},
   "source": [
    "15. Join a list of words into a string."
   ]
  },
  {
   "cell_type": "code",
   "execution_count": 64,
   "id": "ea42eed5-0ce8-46e5-868e-301b62d50339",
   "metadata": {},
   "outputs": [],
   "source": [
    "word_list = ['apple', 'orange', 'banana']\n",
    "\n",
    "joined_string = ', '.join(word_list)\n"
   ]
  },
  {
   "cell_type": "code",
   "execution_count": 65,
   "id": "1c30a1f3-bb34-42cd-bbf1-c4225526ebaf",
   "metadata": {},
   "outputs": [
    {
     "data": {
      "text/plain": [
       "'apple, orange, banana'"
      ]
     },
     "execution_count": 65,
     "metadata": {},
     "output_type": "execute_result"
    }
   ],
   "source": [
    "joined_string"
   ]
  },
  {
   "cell_type": "markdown",
   "id": "46dcf462-0a42-4395-aeda-dffaa1fe5380",
   "metadata": {},
   "source": [
    "16. Convert a string where words are separated by spaces to one where words\n",
    "are separated by underscores.\n"
   ]
  },
  {
   "cell_type": "code",
   "execution_count": 66,
   "id": "1dc9547b-48c4-4f84-af20-3767102b127b",
   "metadata": {},
   "outputs": [
    {
     "name": "stdout",
     "output_type": "stream",
     "text": [
      "This_is_an_example_string.\n"
     ]
    }
   ],
   "source": [
    "org_str = \"This is an example string.\"\n",
    "\n",
    "# Replace spaces with underscores\n",
    "modif_str = org_str.replace(\" \", \"_\")\n",
    "\n",
    "print(modif_str)\n"
   ]
  },
  {
   "cell_type": "markdown",
   "id": "9d37ce09-a7c2-4fe5-ba95-374f2f7bf2c5",
   "metadata": {},
   "source": [
    "17. Check if a string starts with a specific word or phrase."
   ]
  },
  {
   "cell_type": "code",
   "execution_count": 67,
   "id": "afc94a18-9c93-480c-8368-a03d9d3b3880",
   "metadata": {},
   "outputs": [
    {
     "name": "stdout",
     "output_type": "stream",
     "text": [
      "String starts with 'Hello'\n"
     ]
    }
   ],
   "source": [
    "my_string = \"Hello, world!\"\n",
    "if my_string.startswith(\"Hello\"):\n",
    "    print(\"String starts with 'Hello'\")\n",
    "else:\n",
    "    print(\"String does not start with 'Hello'\")\n"
   ]
  },
  {
   "cell_type": "markdown",
   "id": "a0144581-6287-4287-86a6-6353225d096c",
   "metadata": {},
   "source": [
    "18. Check if a string ends with a specific word or phrase"
   ]
  },
  {
   "cell_type": "code",
   "execution_count": 68,
   "id": "d847599b-9c4a-4301-9fd8-a76104339eaf",
   "metadata": {},
   "outputs": [
    {
     "name": "stdout",
     "output_type": "stream",
     "text": [
      "The string ends with 'string.'.\n"
     ]
    }
   ],
   "source": [
    "originals = \"This is the end of the example string.\"\n",
    "\n",
    "suffix = \"string.\"\n",
    "\n",
    "if originals.endswith(suffix):\n",
    "    print(f\"The string ends with '{suffix}'.\")\n",
    "else:\n",
    "    print(f\"The string does not end with '{suffix}'.\")\n"
   ]
  },
  {
   "cell_type": "markdown",
   "id": "ee9b2bf0-92c0-4825-96d3-77eff6589b98",
   "metadata": {},
   "source": [
    "19. Convert a string to title case (e.g., \"hello world\" to \"Hello World\")."
   ]
  },
  {
   "cell_type": "code",
   "execution_count": 69,
   "id": "b4a71e76-5393-4164-bf17-fe25c7d8e33c",
   "metadata": {},
   "outputs": [],
   "source": [
    "original_string = \"hello world\"\n",
    "\n",
    "title = original_string.title()\n"
   ]
  },
  {
   "cell_type": "code",
   "execution_count": 70,
   "id": "b0a6ccfd-fecd-4b61-87dc-0b3e9b47c0c9",
   "metadata": {},
   "outputs": [
    {
     "data": {
      "text/plain": [
       "'Hello World'"
      ]
     },
     "execution_count": 70,
     "metadata": {},
     "output_type": "execute_result"
    }
   ],
   "source": [
    "title"
   ]
  },
  {
   "cell_type": "markdown",
   "id": "c6434b9b-412a-4e78-af78-904f7e216c8f",
   "metadata": {},
   "source": [
    "20. Find the longest word in a string.\n"
   ]
  },
  {
   "cell_type": "code",
   "execution_count": 71,
   "id": "4536ac28-9e7a-4a6c-8b77-32534661e85a",
   "metadata": {},
   "outputs": [
    {
     "name": "stdout",
     "output_type": "stream",
     "text": [
      "The longest word in the string is: durgesh\n"
     ]
    }
   ],
   "source": [
    "def find_longest_word(string):\n",
    "    words = a.split()\n",
    "    longest_word = max(words, key=len)\n",
    "    return longest_word\n",
    "\n",
    "string = \" i am durgesh 21 year old \"\n",
    "\n",
    "longest = find_longest_word(string)\n",
    "\n",
    "print(f\"The longest word in the string is: {longest}\")\n"
   ]
  },
  {
   "cell_type": "markdown",
   "id": "f05d687f-188d-4e99-b95a-d7ae43c5f079",
   "metadata": {},
   "source": [
    "21. Find the shortest word in a string."
   ]
  },
  {
   "cell_type": "code",
   "execution_count": 72,
   "id": "649ee048-e62f-44a3-b877-c5b7b8cd8622",
   "metadata": {},
   "outputs": [
    {
     "name": "stdout",
     "output_type": "stream",
     "text": [
      "Shortest word: a\n"
     ]
    }
   ],
   "source": [
    "def find_shortest_word(s):\n",
    "    words = s.split()\n",
    "    shortest_word = min(words, key=len)\n",
    "    return shortest_word\n",
    "\n",
    "my_string = \"This is a sample string\"\n",
    "result = find_shortest_word(my_string)\n",
    "print(\"Shortest word:\", result)\n"
   ]
  },
  {
   "cell_type": "markdown",
   "id": "c0257afe-be01-484f-9284-cdc79b617744",
   "metadata": {},
   "source": [
    "23. Check if a string is alphanumeric.\n"
   ]
  },
  {
   "cell_type": "code",
   "execution_count": 73,
   "id": "2506e854-e8ec-48ee-9d44-f6036f41af31",
   "metadata": {},
   "outputs": [
    {
     "name": "stdout",
     "output_type": "stream",
     "text": [
      "The string 'Hello123' is alphanumeric.\n"
     ]
    }
   ],
   "source": [
    "def is_alphanumeric(input_str):\n",
    "    return input_str.isalnum()\n",
    "\n",
    "test_str = \"Hello123\"\n",
    "\n",
    "if is_alphanumeric(test_str):\n",
    "    print(f\"The string '{test_str}' is alphanumeric.\")\n",
    "else:\n",
    "    print(f\"The string '{test_str}' is not alphanumeric.\")\n"
   ]
  },
  {
   "cell_type": "code",
   "execution_count": 74,
   "id": "eaced3a0-edf5-4099-96a8-75a17830a438",
   "metadata": {},
   "outputs": [
    {
     "data": {
      "text/plain": [
       "True"
      ]
     },
     "execution_count": 74,
     "metadata": {},
     "output_type": "execute_result"
    }
   ],
   "source": [
    "test_str.isalnum()"
   ]
  },
  {
   "cell_type": "markdown",
   "id": "2ee1c757-0fe1-4c3b-a529-d197b1d1c12a",
   "metadata": {},
   "source": [
    "24. Extract all digits from a string.\n"
   ]
  },
  {
   "cell_type": "code",
   "execution_count": 75,
   "id": "ee134584-91d4-4a0e-8a6e-f9dd02f66e07",
   "metadata": {},
   "outputs": [
    {
     "name": "stdout",
     "output_type": "stream",
     "text": [
      "Original String: The price is $45.99 for 2 items.\n",
      "Extracted Digits: 45992\n"
     ]
    }
   ],
   "source": [
    "import re\n",
    "\n",
    "def extract_digits(input_string):\n",
    "    return ''.join(re.findall(r'\\d', input_string))\n",
    "input_string = \"The price is $45.99 for 2 items.\"\n",
    "result = extract_digits(input_string)\n",
    "\n",
    "def extract_digits(input_string):\n",
    "    return ''.join(char for char in input_string if char.isdigit())\n",
    "print(\"Original String:\", input_string)\n",
    "print(\"Extracted Digits:\", result)"
   ]
  },
  {
   "cell_type": "markdown",
   "id": "11d542d7-dd51-4604-b804-2499cc12b25f",
   "metadata": {},
   "source": [
    "25. Extract all alphabets from a string.\n"
   ]
  },
  {
   "cell_type": "code",
   "execution_count": 76,
   "id": "d41260e6-af55-4f20-8df1-617ad6f6c2a4",
   "metadata": {},
   "outputs": [
    {
     "name": "stdout",
     "output_type": "stream",
     "text": [
      "The extracted alphabets are: abcdef\n"
     ]
    }
   ],
   "source": [
    "test_str = \"abc123def456\"\n",
    "\n",
    "alphabet = ''.join(i for i in test_str if i.isalpha())\n",
    "\n",
    "print(f\"The extracted alphabets are: {alphabet}\")\n"
   ]
  },
  {
   "cell_type": "markdown",
   "id": "303e90e0-95c9-4174-a9ed-47f640d5f255",
   "metadata": {},
   "source": [
    "26. Count the number of uppercase letters in a string."
   ]
  },
  {
   "cell_type": "code",
   "execution_count": 77,
   "id": "b62ac666-28d5-479a-92f2-02a06c718067",
   "metadata": {},
   "outputs": [
    {
     "name": "stdout",
     "output_type": "stream",
     "text": [
      "the number of uppercase latter is : 2\n"
     ]
    }
   ],
   "source": [
    "input_string = \"Hello World!\"\n",
    "uppercase_letters = list(filter(str.isupper,input_string))\n",
    "count = len (uppercase_letters)\n",
    "print (f\"the number of uppercase latter is : {count}\")\n"
   ]
  },
  {
   "cell_type": "markdown",
   "id": "70334416-c700-4311-b402-38dc51e102f4",
   "metadata": {},
   "source": [
    "27. Count the number of lowercase letters in a string"
   ]
  },
  {
   "cell_type": "code",
   "execution_count": 78,
   "id": "afe90c78-d084-4249-8c97-6697abf956e2",
   "metadata": {},
   "outputs": [
    {
     "name": "stdout",
     "output_type": "stream",
     "text": [
      "the number of uppercase latter is : 12\n"
     ]
    }
   ],
   "source": [
    "input_string = \"Durgesh Kharwar!\"\n",
    "loweercase_letters = list(filter(str.islower,input_string))\n",
    "count = len (loweercase_letters)\n",
    "print (f\"the number of uppercase latter is : {count}\")"
   ]
  },
  {
   "cell_type": "markdown",
   "id": "14247984-0a44-4d67-b4cf-3cecdbcbe22a",
   "metadata": {},
   "source": [
    "28. Swap the case of each character in a string.\n"
   ]
  },
  {
   "cell_type": "code",
   "execution_count": 79,
   "id": "9047c841-4ff6-4e36-a978-26adde806a51",
   "metadata": {},
   "outputs": [
    {
     "name": "stdout",
     "output_type": "stream",
     "text": [
      "The string after swapping the case is:  hOW aBOUT sOME cASE sWAPPING?\n"
     ]
    }
   ],
   "source": [
    "input_string = \" How About Some Case Swapping?\"\n",
    "\n",
    "swapped_string = input_string.swapcase()\n",
    "\n",
    "print(f\"The string after swapping the case is: {swapped_string}\")\n"
   ]
  },
  {
   "cell_type": "markdown",
   "id": "2cc46933-aeea-4ce3-bb3d-5084e3b4a6e2",
   "metadata": {},
   "source": [
    "29. Remove a specific word from a string.\n"
   ]
  },
  {
   "cell_type": "code",
   "execution_count": 80,
   "id": "4c9d8d97-ad10-4caf-9f25-8626fa937004",
   "metadata": {},
   "outputs": [
    {
     "name": "stdout",
     "output_type": "stream",
     "text": [
      "The string after removing 'World' is:\n",
      "Remove  from this string.\n"
     ]
    }
   ],
   "source": [
    "input_string = \"Remove World from this string.\"\n",
    "word_to_remove = \"World\"\n",
    "\n",
    "modified_string = input_string.replace(word_to_remove, '')\n",
    "\n",
    "print(f\"The string after removing '{word_to_remove}' is:\\n{modified_string}\")\n"
   ]
  },
  {
   "cell_type": "markdown",
   "id": "d4b2009f-375c-4ab4-8b58-df8c67ff91f6",
   "metadata": {},
   "source": [
    "30. Check if a string is a valid email address"
   ]
  },
  {
   "cell_type": "code",
   "execution_count": 81,
   "id": "b2786e47-0c73-4f5e-9e55-1ef91a4fb0d7",
   "metadata": {},
   "outputs": [
    {
     "name": "stdout",
     "output_type": "stream",
     "text": [
      "durgesh@gmail.com is a valid email address.\n"
     ]
    }
   ],
   "source": [
    "email = \"durgesh@gmail.com\"\n",
    "if \"@\" in email and \".\" in email:\n",
    "    print(f\"{email} is a valid email address.\")\n",
    "else:\n",
    "    print(f\"{email} is not a valid email address.\")\n"
   ]
  },
  {
   "cell_type": "markdown",
   "id": "d7c2de94-b117-483c-b0bd-e975ab930cdb",
   "metadata": {},
   "source": [
    "31. Extract the username from an email address string.\n"
   ]
  },
  {
   "cell_type": "code",
   "execution_count": 82,
   "id": "2764b8d9-4c3a-4e44-abf3-04c8980f7491",
   "metadata": {},
   "outputs": [
    {
     "name": "stdout",
     "output_type": "stream",
     "text": [
      "The username is: user\n"
     ]
    }
   ],
   "source": [
    "email_address = \"user@example.com\"\n",
    "username = email_address.split('@')[0]\n",
    "print(f\"The username is: {username}\")"
   ]
  },
  {
   "cell_type": "markdown",
   "id": "ce864c0d-288d-4f2f-b394-3edd7c2cd0b6",
   "metadata": {},
   "source": [
    "32. Extract the domain name from an email address string"
   ]
  },
  {
   "cell_type": "code",
   "execution_count": 83,
   "id": "a12e219c-c735-473c-8fd9-8d71479e8bc7",
   "metadata": {},
   "outputs": [
    {
     "name": "stdout",
     "output_type": "stream",
     "text": [
      "The domain name is: example.com\n"
     ]
    }
   ],
   "source": [
    "email_address = \"user@example.com\"\n",
    "domain_name = email_address.split('@')[1]\n",
    "print(f\"The domain name is: {domain_name}\")"
   ]
  },
  {
   "cell_type": "markdown",
   "id": "bcd44d80-5c34-463d-bc52-157b3d776692",
   "metadata": {},
   "source": [
    "33. Replace multiple spaces in a string with a single space.\n"
   ]
  },
  {
   "cell_type": "code",
   "execution_count": 84,
   "id": "0f15fe5d-c9ef-4546-aecc-52c6dec31bea",
   "metadata": {},
   "outputs": [
    {
     "name": "stdout",
     "output_type": "stream",
     "text": [
      "The string after replacing multiple spaces is:\n",
      "This is an example with multiple spaces.\n"
     ]
    }
   ],
   "source": [
    "import re\n",
    "input_string = \"This   is   an   example   with   multiple   spaces.\"\n",
    "modified_string = re.sub(r'\\s+', ' ', input_string)\n",
    "print(f\"The string after replacing multiple spaces is:\\n{modified_string}\")\n"
   ]
  },
  {
   "cell_type": "markdown",
   "id": "9c8c4f4c-9f00-4c2b-a785-7ac0f41d3111",
   "metadata": {},
   "source": [
    "34. Check if a string is a valid URL"
   ]
  },
  {
   "cell_type": "code",
   "execution_count": 85,
   "id": "98116f87-a2cd-49f4-ab15-4716143b3714",
   "metadata": {},
   "outputs": [
    {
     "name": "stdout",
     "output_type": "stream",
     "text": [
      "https://github.com/durgesh1587 is a valid URL.\n"
     ]
    }
   ],
   "source": [
    "from urllib.parse import urlparse\n",
    "\n",
    "def is_valid_url(url):\n",
    "    try:\n",
    "        result = urlparse(url)\n",
    "        return all([result.scheme, result.netloc])\n",
    "    except ValueError:\n",
    "        return False\n",
    "url_to_check = \"https://github.com/durgesh1587\"\n",
    "\n",
    "if is_valid_url(url_to_check):\n",
    "    print(f\"{url_to_check} is a valid URL.\")\n",
    "else:\n",
    "    print(f\"{url_to_check} is not a valid URL.\")"
   ]
  },
  {
   "cell_type": "markdown",
   "id": "9db9e4c7-a3df-496f-b98f-0488de8322e7",
   "metadata": {},
   "source": [
    "35. Extract the protocol (http or https) from a URL string.\n"
   ]
  },
  {
   "cell_type": "code",
   "execution_count": 86,
   "id": "fbeccd8c-91b5-4a84-8a09-2055edba9f21",
   "metadata": {},
   "outputs": [
    {
     "name": "stdout",
     "output_type": "stream",
     "text": [
      "Protocol: https\n"
     ]
    }
   ],
   "source": [
    "from urllib.parse import urlparse\n",
    "\n",
    "def extract_protocol(url):\n",
    "    parsed_url = urlparse(url)\n",
    "    return parsed_url.scheme\n",
    "\n",
    "url =  \"https://github.com/durgesh1587\"\n",
    "protocol = extract_protocol(url)\n",
    "print(\"Protocol:\", protocol)\n"
   ]
  },
  {
   "cell_type": "markdown",
   "id": "e80ae545-53a9-4346-9ccc-1f6f1a555c89",
   "metadata": {},
   "source": [
    "36. Find the frequency of each character in a string."
   ]
  },
  {
   "cell_type": "code",
   "execution_count": 87,
   "id": "010d7b22-6a86-4087-8cee-0842249049da",
   "metadata": {},
   "outputs": [
    {
     "name": "stdout",
     "output_type": "stream",
     "text": [
      "Character: p, Frequency: 1\n",
      "Character: w, Frequency: 1\n",
      "Character: S, Frequency: 1\n",
      "Character: k, Frequency: 1\n",
      "Character: i, Frequency: 1\n",
      "Character: l, Frequency: 2\n",
      "Character: s, Frequency: 1\n"
     ]
    }
   ],
   "source": [
    "def character_frequency(string):\n",
    "    frequency_dict = {}\n",
    "    \n",
    "    for char in string:\n",
    "        frequency_dict[char] = frequency_dict.get(char, 0) + 1\n",
    "    \n",
    "    return frequency_dict\n",
    "\n",
    "input_string = \"pwSkills\"\n",
    "result = character_frequency(input_string)\n",
    "\n",
    "for char, count in result.items():\n",
    "    print(f\"Character: {char}, Frequency: {count}\")\n"
   ]
  },
  {
   "cell_type": "markdown",
   "id": "9da62b65-7c48-4a58-b077-e2c6a994bda8",
   "metadata": {},
   "source": [
    "37. Remove all punctuation from a string."
   ]
  },
  {
   "cell_type": "code",
   "execution_count": 88,
   "id": "fb90d57a-aef6-497d-97ce-4ed276336675",
   "metadata": {},
   "outputs": [
    {
     "name": "stdout",
     "output_type": "stream",
     "text": [
      "Original String: Hello, world! This is an example string.\n",
      "String without Punctuation: Hello world This is an example string\n"
     ]
    }
   ],
   "source": [
    "import string\n",
    "def remove_punctuation(input_string):\n",
    "    punctuation_chars = string.punctuation\n",
    "    translation_table = str.maketrans(\"\", \"\", punctuation_chars)\n",
    "    cleaned_string = input_string.translate(translation_table)\n",
    "    return cleaned_string\n",
    "input_string = \"Hello, world! This is an example string.\"\n",
    "result = remove_punctuation(input_string)\n",
    "print(\"Original String:\", input_string)\n",
    "print(\"String without Punctuation:\", result)\n"
   ]
  },
  {
   "cell_type": "markdown",
   "id": "22b8449a-1f03-497f-9a22-aa675bb03036",
   "metadata": {},
   "source": [
    "38. Check if a string contains only digits."
   ]
  },
  {
   "cell_type": "code",
   "execution_count": 89,
   "id": "29d3a768-9c7a-4318-a4e3-b0d7dd3ea5e0",
   "metadata": {},
   "outputs": [
    {
     "name": "stdout",
     "output_type": "stream",
     "text": [
      "123.45 contains only digits: True\n",
      "-789 contains only digits: True\n"
     ]
    }
   ],
   "source": [
    "import re\n",
    "def contains_only_digits_and_optional_sign(input_string):\n",
    "    return re.match(r'^[+-]?\\d*\\.?\\d+$', input_string) is not None\n",
    "numeric_string1 = \"123.45\"\n",
    "numeric_string2 = \"-789\"\n",
    "print(f\"{numeric_string1} contains only digits: {contains_only_digits_and_optional_sign(numeric_string1)}\")\n",
    "print(f\"{numeric_string2} contains only digits: {contains_only_digits_and_optional_sign(numeric_string2)}\")\n"
   ]
  },
  {
   "cell_type": "markdown",
   "id": "f6195f09-390a-4590-aaa8-882dc3c108b2",
   "metadata": {},
   "source": [
    "39. Check if a string contains only alphabets."
   ]
  },
  {
   "cell_type": "code",
   "execution_count": 90,
   "id": "9a05a853-cd8e-4512-9da5-0832fdb765b0",
   "metadata": {},
   "outputs": [
    {
     "name": "stdout",
     "output_type": "stream",
     "text": [
      "Hello contains only alphabets: True\n",
      "Hello123 contains only alphabets: False\n"
     ]
    }
   ],
   "source": [
    "def contains_only_alphabets(input_string):\n",
    "    return input_string.isalpha()\n",
    "string1 = \"Hello\"\n",
    "string2 = \"Hello123\"\n",
    "print(f\"{string1} contains only alphabets: {contains_only_alphabets(string1)}\")\n",
    "print(f\"{string2} contains only alphabets: {contains_only_alphabets(string2)}\")\n"
   ]
  },
  {
   "cell_type": "markdown",
   "id": "0ffecc16-29a9-44f9-beb5-68fb0aca613d",
   "metadata": {},
   "source": [
    "40. Convert a string to a list of characters."
   ]
  },
  {
   "cell_type": "code",
   "execution_count": 91,
   "id": "0da698ad-c914-4ae8-ad1b-76f7e09a530c",
   "metadata": {},
   "outputs": [
    {
     "name": "stdout",
     "output_type": "stream",
     "text": [
      "Original String: Hello, World\n",
      "List of Characters: ['H', 'e', 'l', 'l', 'o', ',', ' ', 'W', 'o', 'r', 'l', 'd']\n"
     ]
    }
   ],
   "source": [
    "def string_to_list(string):\n",
    "    char_list = list(string)\n",
    "    return char_list\n",
    "input_string = \"Hello, World\"\n",
    "result = string_to_list(input_string)\n",
    "\n",
    "print(\"Original String:\", input_string)\n",
    "print(\"List of Characters:\", result)\n"
   ]
  },
  {
   "cell_type": "markdown",
   "id": "67bd35c1-50a6-40f2-af67-0ab3ea9a6456",
   "metadata": {},
   "source": [
    "41. Check if two strings are anagrams."
   ]
  },
  {
   "cell_type": "code",
   "execution_count": 92,
   "id": "b575c85c-3399-416b-8417-a1936ae22d4f",
   "metadata": {},
   "outputs": [
    {
     "name": "stdout",
     "output_type": "stream",
     "text": [
      "Listen and Silent are anagrams.\n"
     ]
    }
   ],
   "source": [
    "def are_anagrams(str1, str2):\n",
    "    str1 = str1.replace(\" \", \"\").lower()\n",
    "    str2 = str2.replace(\" \", \"\").lower()\n",
    "    return sorted(str1) == sorted(str2)\n",
    "string1 = \"Listen\"\n",
    "string2 = \"Silent\"\n",
    "\n",
    "if are_anagrams(string1, string2):\n",
    "    print(f\"{string1} and {string2} are anagrams.\")\n",
    "else:\n",
    "    print(f\"{string1} and {string2} are not anagrams.\")\n"
   ]
  },
  {
   "cell_type": "markdown",
   "id": "aee2833c-95fc-42e9-8e45-b921651b01a1",
   "metadata": {},
   "source": [
    "42. Encode a string using a Caesar cipher."
   ]
  },
  {
   "cell_type": "code",
   "execution_count": 93,
   "id": "7fa44bea-bfe7-455c-9404-5b84278a1d02",
   "metadata": {},
   "outputs": [
    {
     "name": "stdout",
     "output_type": "stream",
     "text": [
      "Original Text: Hello, World!\n",
      "Caesar Cipher (Shift 3): Khoor, Zruog!\n"
     ]
    }
   ],
   "source": [
    "def caesar_cipher_encrypt(text, shift):\n",
    "    return ''.join([chr((ord(char) - ord('A' if char.isupper() else 'a') + shift) % 26 + ord('A' if char.isupper() else 'a')) if char.isalpha() else char for char in text])\n",
    "plaintext = \"Hello, World!\"\n",
    "shift = 3\n",
    "encrypted_text = caesar_cipher_encrypt(plaintext, shift)\n",
    "\n",
    "print(\"Original Text:\", plaintext)\n",
    "print(f\"Caesar Cipher (Shift {shift}):\", encrypted_text)\n"
   ]
  },
  {
   "cell_type": "markdown",
   "id": "ef75a933-0847-41a0-a76d-61968b0fdf27",
   "metadata": {},
   "source": [
    "43. Decode a Caesar cipher encoded string."
   ]
  },
  {
   "cell_type": "code",
   "execution_count": 94,
   "id": "e040f8ad-4651-4e16-8905-2f560305d569",
   "metadata": {},
   "outputs": [
    {
     "name": "stdout",
     "output_type": "stream",
     "text": [
      "Encrypted Text: durgesh, kumar!\n",
      "Caesar Cipher Decryption (Shift 3): arodbpe, hrjxo!\n"
     ]
    }
   ],
   "source": [
    "def caesar_cipher_decrypt(text, shift):\n",
    "    return ''.join([chr((ord(char) - ord('A' if char.isupper() else 'a') - shift) % 26 + ord('A' if char.isupper() else 'a')) if char.isalpha() else char for char in text])\n",
    "encrypted_text = \"durgesh, kumar!\"\n",
    "shift = 3\n",
    "decrypted_text = caesar_cipher_decrypt(encrypted_text, shift)\n",
    "\n",
    "print(\"Encrypted Text:\", encrypted_text)\n",
    "print(f\"Caesar Cipher Decryption (Shift {shift}):\", decrypted_text)\n"
   ]
  },
  {
   "cell_type": "markdown",
   "id": "44434bbf-c29e-4b1f-9444-8d5f1f0e719a",
   "metadata": {},
   "source": [
    "44. Find the most frequent word in a string."
   ]
  },
  {
   "cell_type": "code",
   "execution_count": 95,
   "id": "4ae3e43a-0f7f-4ddf-9a7c-79eb3eb18087",
   "metadata": {},
   "outputs": [
    {
     "name": "stdout",
     "output_type": "stream",
     "text": [
      "Most frequent word: this\n"
     ]
    }
   ],
   "source": [
    "def most_frequent_word(input_string):\n",
    "    word_count = {}\n",
    "    cleaned_string = ''.join(char.lower() if char.isalnum() or char.isspace() else ' ' for char in input_string)\n",
    "    return max(cleaned_string.split(), key=cleaned_string.split().count)\n",
    "input_string = \"This is a simple example. This example demonstrates how to find the most frequent word in a string.\"\n",
    "\n",
    "result = most_frequent_word(input_string)\n",
    "print(\"Most frequent word:\", result)\n"
   ]
  },
  {
   "cell_type": "markdown",
   "id": "b5a6015b-922b-4982-8552-d2c7afbb4358",
   "metadata": {},
   "source": [
    "45. Find all unique words in a string."
   ]
  },
  {
   "cell_type": "code",
   "execution_count": 96,
   "id": "f950e28c-b947-4446-98c1-328a1f6c468d",
   "metadata": {},
   "outputs": [
    {
     "name": "stdout",
     "output_type": "stream",
     "text": [
      "Unique words: {'a', 'how', 'find', 'example', 'unique', 'is', 'demonstrates', 'simple', 'words', 'in', 'this', 'string', 'all', 'to'}\n"
     ]
    }
   ],
   "source": [
    "def unique_words(input_string):\n",
    "    cleaned_string = ''.join(char.lower() if char.isalnum() or char.isspace() else ' ' for char in input_string)\n",
    "    return set(cleaned_string.split())\n",
    "input_string = \"This is a simple example. This example demonstrates how to find all unique words in a string.\"\n",
    "result = unique_words(input_string)\n",
    "print(\"Unique words:\", result)"
   ]
  },
  {
   "cell_type": "markdown",
   "id": "dc006788-1e72-4207-94b2-76c826e3d52d",
   "metadata": {},
   "source": [
    "46. Count the number of syllables in a string."
   ]
  },
  {
   "cell_type": "code",
   "execution_count": 97,
   "id": "9ab5bf06-827d-46a0-a65f-4541303eec17",
   "metadata": {},
   "outputs": [],
   "source": [
    "count_syllables = lambda word: sum(1 for char in word.lower() if char in 'aeiouy')\n"
   ]
  },
  {
   "cell_type": "code",
   "execution_count": 98,
   "id": "f047f099-9c49-4a16-89a5-df6a2ec91f7e",
   "metadata": {},
   "outputs": [
    {
     "data": {
      "text/plain": [
       "3"
      ]
     },
     "execution_count": 98,
     "metadata": {},
     "output_type": "execute_result"
    }
   ],
   "source": [
    "count_syllables (\"dith,durgesh\")"
   ]
  },
  {
   "cell_type": "markdown",
   "id": "fb36e3f6-9625-4666-bdc0-9978b7d80ef2",
   "metadata": {},
   "source": [
    "47. Check if a string contains any special characters."
   ]
  },
  {
   "cell_type": "code",
   "execution_count": 99,
   "id": "52d0f978-57d9-4819-abee-03b689b2038e",
   "metadata": {},
   "outputs": [],
   "source": [
    "contains_special_chars = lambda s: any(char for char in s if not char.isalnum())\n"
   ]
  },
  {
   "cell_type": "code",
   "execution_count": 100,
   "id": "809c2efe-7117-40ce-9e24-c5333c23d717",
   "metadata": {},
   "outputs": [
    {
     "data": {
      "text/plain": [
       "True"
      ]
     },
     "execution_count": 100,
     "metadata": {},
     "output_type": "execute_result"
    }
   ],
   "source": [
    "contains_special_chars(\"Dur%gesh1\")"
   ]
  },
  {
   "cell_type": "markdown",
   "id": "aeb16fa4-5bd0-43bf-8bcc-5c2b481db460",
   "metadata": {},
   "source": [
    "48. Remove the nth word from a string."
   ]
  },
  {
   "cell_type": "code",
   "execution_count": 101,
   "id": "851bdab2-46dd-47f3-b945-6f11e3a8bca4",
   "metadata": {},
   "outputs": [],
   "source": [
    "insert_word_at_nth_position = lambda s, word, n: ' '.join([word] + s.split()[:n-1] + s.split()[n-1:])\n"
   ]
  },
  {
   "cell_type": "code",
   "execution_count": 102,
   "id": "5c13267a-9e02-45d7-b2e2-6cec8f572975",
   "metadata": {},
   "outputs": [
    {
     "name": "stdout",
     "output_type": "stream",
     "text": [
      "Original String: This is an example sentence.\n",
      "String with 'new' inserted at position 3: new This is an example sentence.\n"
     ]
    }
   ],
   "source": [
    "original_string = \"This is an example sentence.\"\n",
    "word_to_insert = \"new\"\n",
    "position_to_insert = 3\n",
    "result = insert_word_at_nth_position(original_string, word_to_insert, position_to_insert)\n",
    "print(\"Original String:\", original_string)\n",
    "print(f\"String with '{word_to_insert}' inserted at position {position_to_insert}:\", result)\n"
   ]
  },
  {
   "cell_type": "markdown",
   "id": "55ca2410-ed4a-4d29-a761-d4e265b57282",
   "metadata": {},
   "source": [
    "50. Convert a CSV string to a list of lists."
   ]
  },
  {
   "cell_type": "code",
   "execution_count": 103,
   "id": "f2d647b6-8ccf-442d-a531-4bc9f19bc394",
   "metadata": {},
   "outputs": [],
   "source": [
    "def csv_string_to_list(csv_string):\n",
    "    lines = csv_string.split('\\n')\n",
    "    csv_list = [line.split(',') for line in lines if line.strip()]\n",
    "    \n",
    "    return csv_list\n"
   ]
  },
  {
   "cell_type": "code",
   "execution_count": 104,
   "id": "8a3d0f22-7bdf-4ab1-935f-be4daed38e94",
   "metadata": {},
   "outputs": [
    {
     "data": {
      "text/plain": [
       "[['durgesh']]"
      ]
     },
     "execution_count": 104,
     "metadata": {},
     "output_type": "execute_result"
    }
   ],
   "source": [
    "csv_string_to_list(\"durgesh\")"
   ]
  },
  {
   "cell_type": "markdown",
   "id": "dc06037b-55c4-4276-970d-769b36274546",
   "metadata": {},
   "source": [
    "List Based Practice Problem :"
   ]
  },
  {
   "cell_type": "markdown",
   "id": "91f8e606-27fe-4883-8127-cf70b39ae716",
   "metadata": {},
   "source": [
    "1. Create a list with integers from 1 to 10."
   ]
  },
  {
   "cell_type": "code",
   "execution_count": 105,
   "id": "f2af6758-c690-43e8-a926-1965b3742e7c",
   "metadata": {},
   "outputs": [],
   "source": [
    "lists=[1,2,3,4,5,6,7,8,9,10]"
   ]
  },
  {
   "cell_type": "code",
   "execution_count": 106,
   "id": "08b33fc3-3011-4735-a0d9-010769c37851",
   "metadata": {},
   "outputs": [
    {
     "data": {
      "text/plain": [
       "[1, 2, 3, 4, 5, 6, 7, 8, 9, 10]"
      ]
     },
     "execution_count": 106,
     "metadata": {},
     "output_type": "execute_result"
    }
   ],
   "source": [
    "lists"
   ]
  },
  {
   "cell_type": "markdown",
   "id": "0b85075f-6c75-4667-8653-c93c4022f5cc",
   "metadata": {},
   "source": [
    "2. Find the length of a list without using the `len()` function."
   ]
  },
  {
   "cell_type": "code",
   "execution_count": 107,
   "id": "3a8df2fd-f55f-4e68-b2c4-5693b0a01741",
   "metadata": {},
   "outputs": [
    {
     "name": "stdout",
     "output_type": "stream",
     "text": [
      "Length of the list: 1\n",
      "Length of the list: 2\n",
      "Length of the list: 3\n",
      "Length of the list: 4\n",
      "Length of the list: 5\n",
      "Length of the list: 6\n",
      "Length of the list: 7\n",
      "Length of the list: 8\n",
      "Length of the list: 9\n",
      "Length of the list: 10\n"
     ]
    }
   ],
   "source": [
    "my_list=0\n",
    "\n",
    "for x in lists:\n",
    "    my_list +=1\n",
    "    print(\"Length of the list:\", my_list)"
   ]
  },
  {
   "cell_type": "markdown",
   "id": "60ba6d0f-7170-4c1c-8549-f58baa1f040d",
   "metadata": {},
   "source": [
    "Q - Append an element to the end of a list."
   ]
  },
  {
   "cell_type": "code",
   "execution_count": 108,
   "id": "db45e8c0-216e-4595-88f2-12c58b809b78",
   "metadata": {},
   "outputs": [
    {
     "data": {
      "text/plain": [
       "[1, 2, 3, 4, 5, 6, 7, 8, 9, 10]"
      ]
     },
     "execution_count": 108,
     "metadata": {},
     "output_type": "execute_result"
    }
   ],
   "source": [
    "lists"
   ]
  },
  {
   "cell_type": "code",
   "execution_count": 109,
   "id": "64aa84b1-cae5-4efa-ada2-08a9b63e8978",
   "metadata": {},
   "outputs": [],
   "source": [
    "lists.append(11)"
   ]
  },
  {
   "cell_type": "code",
   "execution_count": 110,
   "id": "a1618033-e592-4832-8f86-184e693c8ed7",
   "metadata": {},
   "outputs": [
    {
     "data": {
      "text/plain": [
       "[1, 2, 3, 4, 5, 6, 7, 8, 9, 10, 11]"
      ]
     },
     "execution_count": 110,
     "metadata": {},
     "output_type": "execute_result"
    }
   ],
   "source": [
    "lists"
   ]
  },
  {
   "cell_type": "markdown",
   "id": "ef8653a7-0039-484c-ad9b-cdc653d4e11a",
   "metadata": {},
   "source": [
    "Q -4. Insert an element at a specific index in a list."
   ]
  },
  {
   "cell_type": "code",
   "execution_count": 111,
   "id": "3b58b476-ad71-4a10-bc75-6da7ba973f3b",
   "metadata": {},
   "outputs": [],
   "source": [
    "lists.insert(10,2)"
   ]
  },
  {
   "cell_type": "code",
   "execution_count": 112,
   "id": "fd7db8b6-7cc5-4813-97ab-92560dd7a1a6",
   "metadata": {},
   "outputs": [
    {
     "data": {
      "text/plain": [
       "[1, 2, 3, 4, 5, 6, 7, 8, 9, 10, 2, 11]"
      ]
     },
     "execution_count": 112,
     "metadata": {},
     "output_type": "execute_result"
    }
   ],
   "source": [
    "lists"
   ]
  },
  {
   "cell_type": "markdown",
   "id": "bb94b797-0d5a-4297-8981-0dfb868ddd04",
   "metadata": {},
   "source": [
    "Q-Remove an element from a list by its value."
   ]
  },
  {
   "cell_type": "code",
   "execution_count": 113,
   "id": "72c84aaa-8135-42aa-bb49-e5f0e0ad02dd",
   "metadata": {},
   "outputs": [],
   "source": [
    "lists.remove(2)"
   ]
  },
  {
   "cell_type": "code",
   "execution_count": 114,
   "id": "57f40167-652f-4628-8161-1cbbb7d84181",
   "metadata": {},
   "outputs": [
    {
     "data": {
      "text/plain": [
       "[1, 3, 4, 5, 6, 7, 8, 9, 10, 2, 11]"
      ]
     },
     "execution_count": 114,
     "metadata": {},
     "output_type": "execute_result"
    }
   ],
   "source": [
    "lists"
   ]
  },
  {
   "cell_type": "code",
   "execution_count": 115,
   "id": "54de6286-0c50-4bf0-8565-d394061ff21d",
   "metadata": {},
   "outputs": [
    {
     "data": {
      "text/plain": [
       "5"
      ]
     },
     "execution_count": 115,
     "metadata": {},
     "output_type": "execute_result"
    }
   ],
   "source": [
    "lists.pop(3)"
   ]
  },
  {
   "cell_type": "code",
   "execution_count": 116,
   "id": "308aade7-1091-4ec5-bf70-9448f544ab6b",
   "metadata": {},
   "outputs": [
    {
     "data": {
      "text/plain": [
       "[1, 3, 4, 6, 7, 8, 9, 10, 2, 11]"
      ]
     },
     "execution_count": 116,
     "metadata": {},
     "output_type": "execute_result"
    }
   ],
   "source": [
    "lists"
   ]
  },
  {
   "cell_type": "markdown",
   "id": "e315c0d8-61ad-46c5-8dd0-7114ae0d004b",
   "metadata": {},
   "source": [
    "Q 7. Check if an element exists in a list."
   ]
  },
  {
   "cell_type": "code",
   "execution_count": 117,
   "id": "783b6dfd-4a09-4a54-a123-c4220d1ebed8",
   "metadata": {},
   "outputs": [
    {
     "data": {
      "text/plain": [
       "[1, 3, 4, 6, 7, 8, 9, 10, 2, 11]"
      ]
     },
     "execution_count": 117,
     "metadata": {},
     "output_type": "execute_result"
    }
   ],
   "source": [
    "lists"
   ]
  },
  {
   "cell_type": "code",
   "execution_count": 118,
   "id": "f3f74f0a-ec80-4794-ac47-e589f89092c7",
   "metadata": {},
   "outputs": [
    {
     "name": "stdout",
     "output_type": "stream",
     "text": [
      "Element exists: True\n"
     ]
    }
   ],
   "source": [
    "element_exists= 3 in lists\n",
    "print(\"Element exists:\", element_exists)"
   ]
  },
  {
   "cell_type": "markdown",
   "id": "125c4a4d-eaeb-4eae-b320-e1d40506881b",
   "metadata": {},
   "source": [
    "Q - Find the index of the first occurrence of an element in a list."
   ]
  },
  {
   "cell_type": "code",
   "execution_count": 119,
   "id": "607f3911-6763-4834-ac2f-eab2c2894861",
   "metadata": {},
   "outputs": [
    {
     "data": {
      "text/plain": [
       "[1, 3, 4, 6, 7, 8, 9, 10, 2, 11]"
      ]
     },
     "execution_count": 119,
     "metadata": {},
     "output_type": "execute_result"
    }
   ],
   "source": [
    "lists"
   ]
  },
  {
   "cell_type": "code",
   "execution_count": 120,
   "id": "aed48ce8-3333-43a7-88f0-3ff45c9ac5a8",
   "metadata": {},
   "outputs": [],
   "source": [
    "index_of = lists.index(3)"
   ]
  },
  {
   "cell_type": "code",
   "execution_count": 121,
   "id": "b37eedda-f58d-456e-973b-94d1ba0856fd",
   "metadata": {},
   "outputs": [
    {
     "data": {
      "text/plain": [
       "1"
      ]
     },
     "execution_count": 121,
     "metadata": {},
     "output_type": "execute_result"
    }
   ],
   "source": [
    "index_of"
   ]
  },
  {
   "cell_type": "markdown",
   "id": "a5ca1e80-ef3c-4f6a-a161-4614bb86248f",
   "metadata": {},
   "source": [
    "Q -Count the occurrences of an element in a list."
   ]
  },
  {
   "cell_type": "code",
   "execution_count": 122,
   "id": "a11013a8-ba47-487f-8ca7-5478fbb258ca",
   "metadata": {},
   "outputs": [
    {
     "name": "stdout",
     "output_type": "stream",
     "text": [
      "Count the occurrences 1\n"
     ]
    }
   ],
   "source": [
    "my_list=[1,2,3,4,5,6,7,8,9]\n",
    "count_of_3=my_list.count(3)\n",
    "print(\"Count the occurrences\",count_of_3)"
   ]
  },
  {
   "cell_type": "markdown",
   "id": "68165014",
   "metadata": {},
   "source": [
    "Q- Reverse the order of elements in a list."
   ]
  },
  {
   "cell_type": "code",
   "execution_count": 123,
   "id": "9f2bd693",
   "metadata": {},
   "outputs": [],
   "source": [
    "my_list.reverse()"
   ]
  },
  {
   "cell_type": "code",
   "execution_count": 124,
   "id": "2639e2c6",
   "metadata": {},
   "outputs": [
    {
     "data": {
      "text/plain": [
       "[9, 8, 7, 6, 5, 4, 3, 2, 1]"
      ]
     },
     "execution_count": 124,
     "metadata": {},
     "output_type": "execute_result"
    }
   ],
   "source": [
    "my_list"
   ]
  },
  {
   "cell_type": "markdown",
   "id": "31fe4df1",
   "metadata": {},
   "source": [
    "Q -Sort a list in ascending order."
   ]
  },
  {
   "cell_type": "code",
   "execution_count": 125,
   "id": "3fa26482",
   "metadata": {},
   "outputs": [
    {
     "name": "stdout",
     "output_type": "stream",
     "text": [
      "Sorted list in ascending order: [1, 2, 3, 4, 5, 6, 7, 8, 9]\n",
      "Sorted list in descending order: [9, 8, 7, 6, 5, 4, 3, 2, 1]\n",
      "List of even numbers from 1 to 20: [2, 4, 6, 8, 10, 12, 14, 16, 18, 20]\n",
      "List of odd numbers from 1 to 20: [1, 3, 5, 7, 9, 11, 13, 15, 17, 19]\n",
      "Sum of all elements in the list: 45\n",
      "max of all elements in the list: 9\n",
      "minimum of all elements in the list: 1\n",
      "List of squares of numbers from 1 to 10: [1, 4, 9, 16, 25, 36, 49, 64, 81, 100]\n",
      "List of random numbers: 8\n",
      "List without duplicates: [1, 2, 3, 4, 5, 6, 7, 8, 9]\n",
      "Common elements between the two lists: [1, 2, 3, 4, 5, 6, 7, 8, 9]\n",
      "Difference between the two lists: [1, 2, 3, 4, 5, 6, 7, 8, 9]\n",
      "Merged list: [1, 2, 3, 4, 5, 6, 7, 8, 9, 9, 8, 7, 4, 5, 6, 1, 2, 3]\n",
      "Doubled list: [9, 8, 7, 4, 5, 6, 1, 2, 3]\n",
      "Filtered list (without even numbers): [9, 7, 5, 3, 1]\n",
      "Converted integers: [1, 2, 3, 4]\n",
      "Converted str: ['1', '2', '3', '4', '5', '6', '7', '8', '9']\n",
      "Flattened list: [1, 2, 3, 4, 5, 6, 7, 8, 9]\n",
      "First 10 Fibonacci numbers: [0, 1, 1, 2, 3, 5, 8, 13, 21, 34]\n",
      "Is the list sorted? True\n",
      "Rotated list: [3, 4, 5, 1, 2]\n",
      "Rotated list: [1, 2, 3, 4, 5]\n",
      "Prime numbers up to 50: [2, 3, 5, 7, 11, 13, 17, 19, 23, 29, 31, 37, 41, 43, 47]\n",
      "List of chunks: [[1, 2, 3], [4, 5, 6], [7, 8, 9], [10]]\n",
      "Second largest number: 12\n",
      "List with squared elements: [1, 4, 9, 16, 25]\n",
      "{'apple': 0, 'banana': 1, 'orange': 2}\n",
      "[2, 5, 3, 1, 4]\n",
      "[1, 2, 6, 24, 120, 720, 5040, 40320, 362880, 3628800]\n",
      "The lists have at least one element in common: {5}\n",
      "[]\n"
     ]
    }
   ],
   "source": [
    "my_list.sort()\n",
    "print(\"Sorted list in ascending order:\", my_list)\n",
    "\n",
    "#Sort a list in descending order.\n",
    "my_list.sort(reverse=True)\n",
    "print(\"Sorted list in descending order:\", my_list)\n",
    "\n",
    "#Create a list of even numbers from 1 to 20.\n",
    "even_num=[i for i in range(2,21,2)]\n",
    "print(\"List of even numbers from 1 to 20:\", even_num)\n",
    "\n",
    "\n",
    "#Create a list of odd numbers from 1 to 20.\n",
    "\n",
    "odd_num=[i for i in range(1,21,2)]\n",
    "print(\"List of odd numbers from 1 to 20:\", odd_num)\n",
    "\n",
    "\n",
    "#15. Find the sum of all elements in a list.\n",
    "sum_of =sum(my_list)\n",
    "print(\"Sum of all elements in the list:\", sum_of)\n",
    "\n",
    "#Find the maximum value in a list.\n",
    "max_value=max(my_list)\n",
    "print(\"max of all elements in the list:\", max_value)\n",
    "\n",
    "#Find the minimum value in a list.\n",
    "min_value=min(my_list)\n",
    "print(\"minimum of all elements in the list:\",min_value)\n",
    "\n",
    "#Create a list of squares of numbers from 1 to 10.\n",
    "squares_list=[i**2 for i in range(1,11)]\n",
    "print(\"List of squares of numbers from 1 to 10:\", squares_list)\n",
    "\n",
    "\n",
    "#19. Create a list of random numbers.\n",
    "import random\n",
    "list_of_random=random.randint(1,50)\n",
    "print(\"List of random numbers:\", list_of_random)\n",
    "\n",
    "#20. Remove duplicates from a list.\n",
    "duplicates=list(set(my_list))\n",
    "print(\"List without duplicates:\",duplicates)\n",
    "\n",
    "#21. Find the common elements between two lists.\n",
    "A=[1,2,3,4,5,6,7,8,9]\n",
    "B=[1,2,3,4,5,6,7,8,9]\n",
    "common_elements=list(set(A).intersection(B))\n",
    "print(\"Common elements between the two lists:\", common_elements)\n",
    "\n",
    "#22. Find the difference between two lists.\n",
    "a=[1,2,3,4,5,6,7,8,9]\n",
    "b=[10,11,12,13,14,15]\n",
    "difference_list = list(set(a).difference(b))\n",
    "print(\"Difference between the two lists:\", difference_list)\n",
    "\n",
    "#23. Merge two lists.\n",
    "a=[1,2,3,4,5,6,7,8,9]\n",
    "b=[9,8,7,4,5,6,1,2,3]\n",
    "merge_listt =a+b\n",
    "print(\"Merged list:\",merge_listt)\n",
    "\n",
    "#24. Multiply all elements in a list by 2.\n",
    "a_list=[1,2,3,4,5,6,7,8,9]\n",
    "b_list=[i*2 for i in a_list]\n",
    "print(\"Doubled list:\",b )\n",
    "\n",
    "\n",
    "# 25. Filter out all even numbers from a list.\n",
    "even_number=my_list\n",
    "filtered_list=[num for num in even_number if num % 2!=0]\n",
    "print(\"Filtered list (without even numbers):\", filtered_list)\n",
    "\n",
    "\n",
    "#Convert a list of strings to a list of integers.\n",
    "string_list=[\"1\",\"2\",\"3\",\"4\"]\n",
    "convert_int=[int(item)for item in string_list]\n",
    "print(\"Converted integers:\", convert_int)\n",
    "\n",
    "#27. Convert a list of integers to a list of strings.\n",
    "int_list=[1,2,3,4,5,6,7,8,9]\n",
    "convert_int=[str(item)for item in int_list]\n",
    "print(\"Converted str:\", convert_int)\n",
    "\n",
    "\n",
    "# 28. Flatten a nested list.\n",
    "nested_list=[[1,2,3],[4,5,6],[7,8,9]]\n",
    "flattened_list=[i for x in nested_list for i in x ]\n",
    "print(\"Flattened list:\", flattened_list)\n",
    "\n",
    "\n",
    "#29. Create a list of the first 10 Fibonacci numbers.\n",
    "fibonacci_list = [0, 1]\n",
    "for i in range(2, 10):\n",
    "    next_fibonacci = fibonacci_list[i-1] + fibonacci_list[i-2]\n",
    "    fibonacci_list.append(next_fibonacci)\n",
    "print(\"First 10 Fibonacci numbers:\", fibonacci_list)\n",
    "\n",
    "#30. Check if a list is sorted.\n",
    "my_list = [1,2,3,4,5]\n",
    "is_sorted =all (my_list[i] <=my_list[i+1]for i in range (len(my_list)-1))\n",
    "print(\"Is the list sorted?\", is_sorted)\n",
    "\n",
    "#31. Rotate a list to the left by `n` positions.\n",
    "my_list = [1,2,3,4,5]\n",
    "n=2\n",
    "rotate_list=my_list[n:]+my_list[:n]\n",
    "print(\"Rotated list:\", rotate_list)\n",
    "\n",
    "#32. Rotate a list to the right by `n` positions.\n",
    "my_list = [3, 4, 5, 1, 2]\n",
    "n=2\n",
    "rotation_index = len(my_list) - n\n",
    "rotated_list = my_list[rotation_index:] + my_list[:rotation_index]\n",
    "print(\"Rotated list:\", rotated_list)\n",
    "\n",
    "#33. Create a list of prime numbers up to 50.\n",
    "prime_numbers = [num for num in range(2, 51) if all(num % i != 0 for i in range(2, int(num**0.5) + 1))]\n",
    "print(\"Prime numbers up to 50:\", prime_numbers)\n",
    "\n",
    "#34. Split a list into chunks of size `n`.\n",
    "my_list = [1, 2, 3, 4, 5, 6, 7, 8, 9, 10]\n",
    "n = 3\n",
    "chunks = [my_list[i:i + n] for i in range(0, len(my_list), n)]\n",
    "print(\"List of chunks:\", chunks)\n",
    "\n",
    "# 35. Find the second largest number in a list.\n",
    "my_list = [10, 5, 8, 12, 7, 3, 15]\n",
    "second_largest = sorted(set(my_list))[-2]\n",
    "print(\"Second largest number:\", second_largest)\n",
    "\n",
    "#36. Replace every element in a list with its square.\n",
    "original_list = [1, 2, 3, 4, 5]\n",
    "squared_list = [num**2 for num in original_list]\n",
    "print(\"List with squared elements:\", squared_list)\n",
    "\n",
    "#37. Convert a list to a dictionary where list elements become keys and their indices become values.\n",
    "dictionary= [\"apple\", \"banana\", \"orange\"]\n",
    "my_dict = {value: index for index, value in enumerate(dictionary)}\n",
    "print(my_dict)\n",
    "\n",
    "#38. Shuffle the elements of a list randomly.\n",
    "my_list = [1, 2, 3, 4, 5]\n",
    "random.shuffle(my_list)\n",
    "print(my_list)\n",
    "\n",
    "#39. Create a list of the first 10 factorial numbers.\n",
    "import math\n",
    "factorial_numbers = [math.factorial(i) for i in range(1, 11)]\n",
    "print(factorial_numbers)\n",
    "\n",
    "#40. Check if two lists have at least one element in common.\n",
    "list1 = [1, 2, 3, 4, 5]\n",
    "list2 = [5, 6, 7, 8, 9]\n",
    "common_elements = set(list1) & set(list2)\n",
    "if common_elements:\n",
    "    print(\"The lists have at least one element in common:\", common_elements)\n",
    "else:\n",
    "    print(\"The lists have no common elements.\")\n",
    "\n",
    "#41. Remove all elements from a list.\n",
    "my_list= [1, 2, 3, 4, 5]\n",
    "my_list.clear()  \n",
    "print(my_list)\n",
    "\n",
    "\n",
    "\n",
    "\n",
    "\n"
   ]
  },
  {
   "cell_type": "code",
   "execution_count": 134,
   "id": "9ab32d57",
   "metadata": {},
   "outputs": [
    {
     "name": "stdout",
     "output_type": "stream",
     "text": [
      "[1, 0, 3, 0, 5]\n",
      "['Hello,', 'this', 'is', 'a', 'sample', 'string.']\n",
      "['Hello,', 'this', 'is', 'a', 'sample', 'string.']\n",
      "[1, 2, 4, 8, 16]\n",
      "Longest string: banana\n",
      "Shortest string: kiwi\n",
      "[1, 3, 6, 10, 15, 21, 28, 36, 45, 55]\n",
      "True\n",
      "List after swapping: [1, 4, 3, 2, 5]\n"
     ]
    }
   ],
   "source": [
    "#42. Replace negative numbers in a list with 0.\n",
    "data = [1, -2, 3, -4, 5]\n",
    "modified_list = [max(0, num) for num in data]\n",
    "print(modified_list)\n",
    "\n",
    "#43. Convert a string into a list of words.\n",
    "my_string = \"Hello, this is a sample string.\"\n",
    "word_list = my_string.split()\n",
    "print(word_list)\n",
    "\n",
    "#44. Convert a list of words into a string.\n",
    "my_string = \"Hello, this is a sample string.\"\n",
    "word_list = my_string.split()\n",
    "print(word_list)\n",
    "\n",
    "#45. Create a list of the first `n` powers of 2.\n",
    "n = 5\n",
    "powers_of_2 = [2**i for i in range(n)]\n",
    "print(powers_of_2)\n",
    "\n",
    "#46. Find the longest string in a list of strings.\n",
    "data_str = [\"apple\", \"banana\", \"orange\", \"kiwi\"]\n",
    "longest_string = max(data_str, key=len)\n",
    "print(\"Longest string:\", longest_string)\n",
    "\n",
    "#47. Find the shortest string in a list of strings.\n",
    "shortest_string = min(data_str, key=len)\n",
    "print(\"Shortest string:\", shortest_string)\n",
    "\n",
    "#48. Create a list of the first `n` triangular numbers.\n",
    "n = 10\n",
    "triangular_numbers = [n * (n + 1) // 2 for n in range(1, n + 1)]\n",
    "print(triangular_numbers)\n",
    "\n",
    "#49. Check if a list contains another list as a subsequence.\n",
    "def is_subsequence(subseq, seq):\n",
    "    it = iter(seq)\n",
    "    return all(elem in it for elem in subseq)\n",
    "main_list = [1, 2, 3, 4, 5, 6]\n",
    "subsequence = [2, 4, 6]\n",
    "result = is_subsequence(subsequence, main_list)\n",
    "print(result)\n",
    "\n",
    "#50. Swap two elements in a list by their indices.\n",
    "my_list = [1, 2, 3, 4, 5]\n",
    "index1 = 1\n",
    "index2 = 3\n",
    "temp = my_list[index1]\n",
    "my_list[index1] = my_list[index2]\n",
    "my_list[index2] = temp\n",
    "print(\"List after swapping:\", my_list)\n",
    "\n",
    "\n",
    "\n"
   ]
  },
  {
   "cell_type": "markdown",
   "id": "a3700dbf",
   "metadata": {},
   "source": [
    "# Tuple Based Practice Problem :"
   ]
  },
  {
   "cell_type": "code",
   "execution_count": 196,
   "id": "da8bb0c3",
   "metadata": {},
   "outputs": [
    {
     "name": "stdout",
     "output_type": "stream",
     "text": [
      "(1, 2, 3, 4, 5)\n",
      "Third element: 3\n",
      "Length of the tuple: 5\n",
      "The element 2 occurs 1 times in the tuple.\n",
      "The first occurrence of 2 is at index 1.\n",
      "3 exists in the tuple.\n",
      "Tuple: (1, 2, 3, 4, 5)\n",
      "List: [1, 2, 3, 4, 5]\n",
      "List: [1, 2, 3, 4, 5]\n",
      "Tuple: (1, 2, 3, 4, 5)\n",
      "a: 1\n",
      "b: 2\n",
      "c: 3\n",
      "(2, 4, 6, 8, 10)\n",
      "(1, 3, 5, 7, 9)\n",
      "(1, 2, 3, 4, 5, 6)\n",
      "(1, 2, 3, 1, 2, 3, 1, 2, 3)\n",
      "The tuple is empty.\n",
      "((1, 2, 3), ('a', 'b', 'c'), (True, False))\n",
      "First element of the nested tuple: 1\n",
      "(42,)\n",
      "The tuples are not equal.\n",
      "Original Tuple: (1, 2, 3, 4, 5, 6, 7, 8, 9, 10)\n",
      "Sliced Tuple: (3, 4, 5, 6)\n",
      "Maximum value in the tuple: 10\n",
      "minimum value in the tuple: 1\n",
      "Original String: hello\n",
      "Tuple of Characters: ('h', 'e', 'l', 'l', 'o')\n",
      "Tuple of Characters: ('h', 'e', 'l', 'l', 'o')\n",
      "String from Tuple: hello\n",
      "Mixed Tuple: (1, 'hello', 3.14, True)\n",
      "The tuples are identical.\n",
      "Original Tuple: (5, 2, 8, 1, 3)\n",
      "Sorted Tuple: (1, 2, 3, 5, 8)\n",
      "Original Tuple of Integers: (1, 2, 3, 4, 5)\n",
      "Tuple of Strings: ('1', '2', '3', '4', '5')\n",
      "Original Tuple of Strings: ('1', '2', '3', '4', '5')\n",
      "Tuple of Integers: (1, 2, 3, 4, 5)\n",
      "Tuple 1: (1, 2, 3)\n",
      "Tuple 2: ('a', 'b', 'c')\n",
      "Merged Tuple: (1, 2, 3, 'a', 'b', 'c')\n",
      "Nested Tuple: ((1, 2, 3), ('a', 'b', 'c'), (True, False))\n",
      "Flattened Tuple: (1, 2, 3, 'a', 'b', 'c', True, False)\n",
      "Tuple of the first 5 prime numbers: (2, 3, 5, 7, 11)\n",
      "Is the tuple a palindrome? True\n",
      "Is the tuple a palindrome? False\n",
      "Tuple of squares: (1, 4, 9, 16, 25)\n",
      "Original Tuple: (1, 2, 3, 4, 5, 6, 7, 8, 9, 10)\n",
      "Filtered Tuple (without even numbers): (1, 3, 5, 7, 9)\n",
      "Original Tuple: (1, 2, 3, 4, 5, 6, 7, 8, 9, 10)\n",
      "Multiplied Tuple (each element multiplied by 2): (2, 4, 6, 8, 10, 12, 14, 16, 18, 20)\n",
      "Tuple of Random Numbers: (29, 46, 44, 52, 59)\n",
      "The tuple is not sorted.\n",
      "Original Tuple: (1, 2, 3, 4, 5)\n",
      "Rotated Tuple to the Left by 2 positions: (3, 4, 5, 1, 2)\n",
      "Original Tuple: (3, 4, 5, 1, 2)\n",
      "Rotated Tuple to the right by 2 positions: (1, 2, 3, 4, 5)\n",
      "Tuple of the first 5 Fibonacci numbers: (0, 1, 1, 2, 3)\n",
      "Enter elements separated by spaces: \n",
      "Tuple from user input: ()\n",
      "Original Tuple: (1, 2, 3, 4, 5)\n",
      "Tuple after swapping elements: (1, 4, 3, 2, 5)\n",
      "Original Tuple: (1, 2, 3, 4, 5)\n",
      "Reversed Tuple: (5, 4, 3, 2, 1)\n",
      "Tuple of the first 5 powers of 2: (1, 2, 4, 8, 16)\n",
      "Tuple of Strings: ('apple', 'banana', 'kiwi', 'orange', 'strawberry')\n",
      "Longest String: strawberry\n",
      "Tuple of Strings: ('apple', 'banana', 'kiwi', 'orange', 'strawberry')\n",
      "Shortest String: kiwi\n",
      "Tuple of the first 5 triangular numbers: (1, 3, 6, 10, 15)\n",
      "The tuple contains the sub-tuple as a subsequence.\n",
      "Tuple of alternating 1s and 0s of length 8: (1, 0, 1, 0, 1, 0, 1, 0)\n"
     ]
    }
   ],
   "source": [
    "#1. Create a tuple with integers from 1 to 5.\n",
    "my_tuple = (1, 2, 3, 4, 5)\n",
    "print(my_tuple)\n",
    "\n",
    "#2. Access the third element of a tuple.\n",
    "my_tuple = (1, 2, 3, 4, 5)\n",
    "third_element = my_tuple[2]\n",
    "print(\"Third element:\", third_element)\n",
    "\n",
    "#3. Find the length of a tuple without using the `len()` function.\n",
    "tuple_length = 0\n",
    "for _ in my_tuple:\n",
    "    tuple_length += 1\n",
    "print(\"Length of the tuple:\", tuple_length)\n",
    "\n",
    "#4. Count the occurrences of an element in a tuple.\n",
    "element_to_count = 2\n",
    "occurrences = my_tuple.count(element_to_count)\n",
    "print(f\"The element {element_to_count} occurs {occurrences} times in the tuple.\")\n",
    "\n",
    "#5. Find the index of the first occurrence of an element in a tuple.\n",
    "element_to_find = 2\n",
    "index_of_first_occurrence = my_tuple.index(element_to_find)\n",
    "print(f\"The first occurrence of {element_to_find} is at index {index_of_first_occurrence}.\")\n",
    "\n",
    "#6. Check if an element exists in a tuple.\n",
    "element_to_check = 3\n",
    "if element_to_check in my_tuple:\n",
    "    print(f\"{element_to_check} exists in the tuple.\")\n",
    "else:\n",
    "    print(f\"{element_to_check} does not exist in the tuple.\")\n",
    "    \n",
    "#7. Convert a tuple to a list.\n",
    "my_list = list(my_tuple)\n",
    "print(\"Tuple:\", my_tuple)\n",
    "print(\"List:\", my_list)\n",
    "\n",
    "#8. Convert a list to a tuple.\n",
    "my_tuple = tuple(my_list)\n",
    "\n",
    "print(\"List:\", my_list)\n",
    "print(\"Tuple:\", my_tuple)\n",
    "\n",
    "#9. Unpack the elements of a tuple into variables.\n",
    "tupleS=(1,2,3)\n",
    "a, b, c = tupleS\n",
    "\n",
    "print(\"a:\", a)\n",
    "print(\"b:\", b)\n",
    "print(\"c:\", c)\n",
    "\n",
    "#10. Create a tuple of even numbers from 1 to 10.\n",
    "even_numbers_tuple = tuple(x for x in range(2, 11, 2))\n",
    "print(even_numbers_tuple)\n",
    "\n",
    "#11. Create a tuple of odd numbers from 1 to 10.\n",
    "odd_numbers_tuple = tuple(x for x in range(1, 11, 2))\n",
    "print(odd_numbers_tuple)\n",
    "\n",
    "#12. Concatenate two tuples.\n",
    "tuple1 = (1, 2, 3)\n",
    "tuple2 = (4, 5, 6)\n",
    "\n",
    "concatenated_tuple = tuple1 + tuple2\n",
    "print(concatenated_tuple)\n",
    "\n",
    "#13. Repeat a tuple three times.\n",
    "original_tuple = (1, 2, 3)\n",
    "repeated_tuple = original_tuple * 3\n",
    "print(repeated_tuple)\n",
    "\n",
    "#14. Check if a tuple is empty.\n",
    "my_tuple = ()\n",
    "if not my_tuple:\n",
    "    print(\"The tuple is empty.\")\n",
    "else:\n",
    "    print(\"The tuple is not empty.\")\n",
    "\n",
    "#15. Create a nested tuple.\n",
    "nested_tuple = ((1, 2, 3), ('a', 'b', 'c'), (True, False))\n",
    "print(nested_tuple)\n",
    "\n",
    "#16. Access the first element of a nested tuple.\n",
    "nested_tuple = ((1, 2, 3), ('a', 'b', 'c'), (True, False))\n",
    "first_element = nested_tuple[0][0]\n",
    "print(\"First element of the nested tuple:\", first_element)\n",
    "\n",
    "#17. Create a tuple with a single element.\n",
    "single_element_tuple = (42,)\n",
    "print(single_element_tuple)\n",
    "\n",
    "#18. Compare two tuples.\n",
    "tuple1 = (1, 2, 3)\n",
    "tuple2 = (1, 2, 4)\n",
    "if tuple1 == tuple2:\n",
    "    print(\"The tuples are equal.\")\n",
    "else:\n",
    "    print(\"The tuples are not equal.\")\n",
    "\n",
    "#19. Delete a tuple.\n",
    "my_tuple = (1, 2, 3, 4, 5)\n",
    "\n",
    "# Delete the entire tuple\n",
    "del my_tuple\n",
    "\n",
    "#20.Slice a tuple.\n",
    "my_tuple_list=(1, 2, 3, 4, 5, 6, 7, 8, 9, 10)\n",
    "sliced_tuple = my_tuple_list[2:6]\n",
    "print(\"Original Tuple:\", my_tuple_list)\n",
    "print(\"Sliced Tuple:\", sliced_tuple)\n",
    "\n",
    "#21. Find the maximum value in a tuple.\n",
    "max_value = max(my_tuple_list)\n",
    "print(\"Maximum value in the tuple:\", max_value)\n",
    "\n",
    "#22. Find the minimum value in a tuple.\n",
    "min_value = min(my_tuple_list)\n",
    "print(\"minimum value in the tuple:\", min_value)\n",
    "\n",
    "#23. Convert a string to a tuple of characters.\n",
    "my_string = \"hello\"\n",
    "tuple_of_char = tuple(my_string)\n",
    "print(\"Original String:\", my_string)\n",
    "print(\"Tuple of Characters:\", tuple_of_char)\n",
    "\n",
    "#24. Convert a tuple of characters to a string.\n",
    "tuple_of_characters = ('h','e','l','l','o')\n",
    "string_from_tuple = ''.join(tuple_of_characters)\n",
    "print(\"Tuple of Characters:\", tuple_of_characters)\n",
    "print(\"String from Tuple:\", string_from_tuple)\n",
    "\n",
    "#25. Create a tuple from multiple data types.\n",
    "mixed_tuple = (1, 'hello', 3.14, True)\n",
    "print(\"Mixed Tuple:\", mixed_tuple)\n",
    "\n",
    "#26. Check if two tuples are identical.\n",
    "tuple1 = (1, 2, 3)\n",
    "tuple2 = (1, 2, 3)\n",
    "if tuple1 == tuple2:\n",
    "    print(\"The tuples are identical.\")\n",
    "else:\n",
    "    print(\"The tuples are not identical.\")\n",
    "\n",
    "#27. Sort the elements of a tuple.\n",
    "my_tuple = (5, 2, 8, 1, 3)\n",
    "sorted_tuple = tuple(sorted(my_tuple))\n",
    "print(\"Original Tuple:\", my_tuple)\n",
    "print(\"Sorted Tuple:\", sorted_tuple)\n",
    "\n",
    "#28. Convert a tuple of integers to a tuple of strings.\n",
    "tuple_of_integers = (1, 2, 3, 4, 5)\n",
    "tuple_of_strings = tuple(map(str, tuple_of_integers))\n",
    "print(\"Original Tuple of Integers:\", tuple_of_integers)\n",
    "print(\"Tuple of Strings:\", tuple_of_strings)\n",
    "\n",
    "#29. Convert a tuple of strings to a tuple of integers.\n",
    "tuple_of_str = ('1', '2', '3', '4', '5')\n",
    "tuple_of_int = tuple(map(int, tuple_of_str))\n",
    "print(\"Original Tuple of Strings:\", tuple_of_str)\n",
    "print(\"Tuple of Integers:\", tuple_of_int)\n",
    "\n",
    "#30. Merge two tuples.\n",
    "tuple1 = (1, 2, 3)\n",
    "tuple2 = ('a', 'b', 'c')\n",
    "\n",
    "merged_tuple = tuple1 + tuple2\n",
    "\n",
    "print(\"Tuple 1:\", tuple1)\n",
    "print(\"Tuple 2:\", tuple2)\n",
    "print(\"Merged Tuple:\", merged_tuple)\n",
    "\n",
    "#31. Flatten a nested tuple.\n",
    "nested_tuple = ((1, 2, 3), ('a', 'b', 'c'), (True, False))\n",
    "\n",
    "flatten_tuple = tuple(item for inner_tuple in nested_tuple for item in inner_tuple)\n",
    "\n",
    "print(\"Nested Tuple:\", nested_tuple)\n",
    "print(\"Flattened Tuple:\", flatten_tuple)\n",
    "\n",
    "#32. Create a tuple of the first 5 prime numbers.\n",
    "first_five_primes = (2, 3, 5, 7, 11)\n",
    "print(\"Tuple of the first 5 prime numbers:\", first_five_primes)\n",
    "\n",
    "#33. Check if a tuple is a palindrome.\n",
    "def is_palindrome(my_tuple):\n",
    "    return my_tuple == my_tuple[::-1]\n",
    "palindrome_tuple = (1, 2, 3, 2, 1)\n",
    "non_palindrome_tuple = (1, 2, 3, 4, 5)\n",
    "print(\"Is the tuple a palindrome?\", is_palindrome(palindrome_tuple))\n",
    "print(\"Is the tuple a palindrome?\", is_palindrome(non_palindrome_tuple))\n",
    "\n",
    "#34. Create a tuple of squares of numbers from 1 to 5.\n",
    "squares_tuple = tuple(x**2 for x in range(1, 6))\n",
    "print(\"Tuple of squares:\", squares_tuple)\n",
    "\n",
    "#35. Filter out all even numbers from a tuple.\n",
    "org_tuple = (1,2,3,4,5,6,7,8,9,10)\n",
    "filtered_tuple = tuple(x for x in org_tuple if x % 2 != 0)\n",
    "print(\"Original Tuple:\", org_tuple)\n",
    "print(\"Filtered Tuple (without even numbers):\", filtered_tuple)\n",
    "\n",
    "#36. Multiply all elements in a tuple by 2.\n",
    "multiplied_tuple = tuple(x * 2 for x in org_tuple)\n",
    "print(\"Original Tuple:\", org_tuple)\n",
    "print(\"Multiplied Tuple (each element multiplied by 2):\", multiplied_tuple)\n",
    "\n",
    "#37. Create a tuple of random numbers.\n",
    "random_tuple = tuple(random.randint(1, 100) for _ in range(5))\n",
    "print(\"Tuple of Random Numbers:\", random_tuple)\n",
    "\n",
    "#38. Check if a tuple is sorted.\n",
    "is_sorted = all(org_tuple[i] <= my_tuple[i + 1] for i in range(len(org_tuple) - 1))\n",
    "if is_sorted:\n",
    "    print(\"The tuple is sorted.\")\n",
    "else:\n",
    "    print(\"The tuple is not sorted.\")\n",
    "    \n",
    "#39. Rotate a tuple to the left by `n` positions.\n",
    "def rotate_left(my_tuple, n):\n",
    "    n = n % len(my_tuple)  \n",
    "    rotated_tuple = my_tuple[n:] + my_tuple[:n]\n",
    "    return rotated_tuple\n",
    "\n",
    "original_tuple = (1, 2, 3, 4, 5)\n",
    "rotated_tuple = rotate_left(original_tuple, 2)\n",
    "print(\"Original Tuple:\", original_tuple)\n",
    "print(\"Rotated Tuple to the Left by 2 positions:\", rotated_tuple)\n",
    "\n",
    "#40. Rotate a tuple to the right by `n` positions.\n",
    "def rotate_left(my_tuple, n):\n",
    "    n = n % len(my_tuple)  \n",
    "    rotated_tuple = my_tuple[-n:] + my_tuple[:-n]\n",
    "    return rotated_tuple\n",
    "\n",
    "original_tuple = (3, 4, 5, 1, 2)\n",
    "rotated_tuple = rotate_left(original_tuple, 2)\n",
    "print(\"Original Tuple:\", original_tuple)\n",
    "print(\"Rotated Tuple to the right by 2 positions:\", rotated_tuple)\n",
    "\n",
    "#41. Create a tuple of the first 5 Fibonacci numbers.\n",
    "fibonacci_tuple = (0, 1, 1, 2, 3)\n",
    "print(\"Tuple of the first 5 Fibonacci numbers:\", fibonacci_tuple)\n",
    "\n",
    "#42. Create a tuple from user input.\n",
    "user_input = input(\"Enter elements separated by spaces: \")\n",
    "user_tuple = tuple(map(int, user_input.split()))\n",
    "print(\"Tuple from user input:\", user_tuple)\n",
    "\n",
    "#43. Swap two elements in a tuple.\n",
    "my_tuple = (1, 2, 3, 4, 5)\n",
    "tuple_list = list(my_tuple)\n",
    "tuple_list[1], tuple_list[3] = tuple_list[3], tuple_list[1]\n",
    "swapped_tuple = tuple(tuple_list)\n",
    "print(\"Original Tuple:\", my_tuple)\n",
    "print(\"Tuple after swapping elements:\", swapped_tuple)\n",
    "\n",
    "#44. Reverse the elements of a tuple.\n",
    "original_tuple = (1, 2, 3, 4, 5)\n",
    "reversed_tuple = original_tuple[::-1]\n",
    "print(\"Original Tuple:\", original_tuple)\n",
    "print(\"Reversed Tuple:\", reversed_tuple)\n",
    "\n",
    "#45. Create a tuple of the first `n` powers of 2.\n",
    "n = 5 \n",
    "powers_of_2_tuple = tuple(2**i for i in range(n))\n",
    "print(f\"Tuple of the first {n} powers of 2:\", powers_of_2_tuple)\n",
    "\n",
    "#46. Find the longest string in a tuple of strings.\n",
    "string_tuple = ('apple','banana','kiwi','orange','strawberry')\n",
    "longest_string = max(string_tuple, key=len)\n",
    "print(\"Tuple of Strings:\", string_tuple)\n",
    "print(\"Longest String:\", longest_string)\n",
    "\n",
    "#47. Find the shortest string in a tuple of strings.\n",
    "shortest_string = min(string_tuple, key=len)\n",
    "print(\"Tuple of Strings:\", string_tuple)\n",
    "print(\"Shortest String:\", shortest_string)\n",
    "\n",
    "#48. Create a tuple of the first `n` triangular numbers.\n",
    "n = 5\n",
    "triangular_numbers_tuple = tuple((i * (i + 1)) // 2 for i in range(1, n + 1))\n",
    "print(f\"Tuple of the first {n} triangular numbers:\", triangular_numbers_tuple)\n",
    "\n",
    "#49. Check if a tuple contains another tuple as a subsequence.\n",
    "main_tuple = (1, 2, 3, 4, 5, 6, 7, 8)\n",
    "sub_tuple = (3, 4, 5)\n",
    "is_subsequence = any(main_tuple[i:i+len(sub_tuple)] == sub_tuple for i in range(len(main_tuple) - len(sub_tuple) + 1))\n",
    "if is_subsequence:\n",
    "    print(\"The tuple contains the sub-tuple as a subsequence.\")\n",
    "else:\n",
    "    print(\"The tuple does not contain the sub-tuple as a subsequence.\")\n",
    "#50. Create a tuple of alternating 1s and 0s of length `n`.\n",
    "n = 8\n",
    "alternating_tuple = tuple(1 if i % 2 == 0 else 0 for i in range(n))\n",
    "print(f\"Tuple of alternating 1s and 0s of length {n}:\", alternating_tuple)\n"
   ]
  },
  {
   "cell_type": "markdown",
   "id": "3c6dda62",
   "metadata": {},
   "source": [
    "# Set Based Practice Problem :"
   ]
  },
  {
   "cell_type": "code",
   "execution_count": 270,
   "id": "2d41f607",
   "metadata": {},
   "outputs": [
    {
     "name": "stdout",
     "output_type": "stream",
     "text": [
      "{1, 2, 3, 4, 5}\n",
      "{1, 2, 3, 4, 5, 6}\n",
      "{1, 2, 3, 4, 5}\n",
      "3 exists in the set.\n",
      "The length of the set is: 5\n",
      "set()\n",
      "{2, 4, 6, 8, 10}\n",
      "{1, 3, 5, 7, 9}\n",
      "Union using union() method: {1, 2, 3, 4, 5, 6, 7, 8}\n",
      "Union using | operator: {1, 2, 3, 4, 5, 6, 7, 8}\n",
      "Intersection using intersection() method: {4, 5}\n",
      "Intersection using & operator: {4, 5}\n",
      "Difference using difference() method: {1, 2, 3}\n",
      "Difference using - operator: {1, 2, 3}\n",
      "Using issubset() method: False\n",
      "Using <= operator: False\n",
      "Using issuperset() method: False\n",
      "Using >= operator: False\n",
      "{3, 4, 5, 6, 7}\n",
      "[3, 4, 5, 6, 7]\n",
      "Removed element: 3\n",
      "Updated set: {4, 5, 6, 7}\n",
      "Popped element: 4\n",
      "Updated set: {5, 6, 7}\n",
      "Are the sets disjoint? True\n",
      "Symmetric difference using symmetric_difference() method: {1, 2, 3, 4, 5, 6}\n",
      "Symmetric difference using ^ operator: {1, 2, 3, 4, 5, 6}\n",
      "Updated set1: {1, 2, 3, 4, 5, 6}\n",
      "[2, 3, 5, 7, 11, 13, 17, 19, 23, 29, 31, 37, 41, 43, 47]\n",
      "Are the sets identical? False\n",
      "frozenset({5, 6, 7})\n",
      "Are the sets disjoint? False\n",
      "{256, 1, 16, 625, 81}\n",
      "{1, 3, 5}\n",
      "{2, 4, 6, 8, 10, 12}\n",
      "{2, 3, 5, 6, 9}\n",
      "The set is empty.\n",
      "{frozenset({3, 4, 5}), frozenset({1, 2})}\n",
      "Updated set: set()\n",
      "Are the sets equal? False\n",
      "{'o', 'l', 'e', 'h'}\n",
      "{1, 2, 3, 4, 5}\n",
      "{'4', '3', '5', '6', '2', '1'}\n",
      "{1, 2, 3, 4, 5}\n",
      "(1, 2, 3, 4, 5)\n",
      "Maximum value: 5\n",
      "Minimum value: 1\n",
      "Enter elements separated by commas: 5\n",
      "User input set: {5}\n",
      "Is the intersection empty? False\n",
      "{0, 1, 2, 3}\n",
      "Original List: {1, 2, 3, 4, 5, 6}\n",
      "List with Duplicates Removed: [1, 2, 3, 4, 5, 6]\n",
      "Do the sets have the same elements regardless of count? True\n",
      "{1, 2, 4, 8, 16}\n",
      "Common elements using intersection() method: {3, 4, 5}\n",
      "Common elements using & operator: {3, 4, 5}\n",
      "{1, 3, 6, 10, 15}\n",
      "Is set2 a subset of set1 using issubset() method? True\n",
      "Is set2 a subset of set1 using <= operator? True\n",
      "{0, 1}\n",
      "Merged set using union() method: {1, 2, 3, 4, 5, 6, 7}\n",
      "Merged set using | operator: {1, 2, 3, 4, 5, 6, 7}\n"
     ]
    }
   ],
   "source": [
    "#1. Create a set with integers from 1 to 5.\n",
    "my_set = {1, 2, 3, 4, 5}\n",
    "print(my_set)\n",
    "\n",
    "#2. Add an element to a set.\n",
    "my_set.add(6)\n",
    "print(my_set)\n",
    "\n",
    "#3. Remove an element from a set.\n",
    "my_set.remove(6)\n",
    "print(my_set)\n",
    "\n",
    "#4. Check if an element exists in a set.\n",
    "element_to_check = 3\n",
    "if element_to_check in my_set:\n",
    "    print(f\"{element_to_check} exists in the set.\")\n",
    "else:\n",
    "    print(f\"{element_to_check} does not exist in the set.\")\n",
    "\n",
    "#5. Find the length of a set without using the `len()` function.\n",
    "\"\"\"\"Finding the length of the set without using len()\"\"\"\n",
    "length = 0\n",
    "for _ in my_set:\n",
    "    length += 1\n",
    "print(f\"The length of the set is: {length}\")\n",
    "\n",
    "#6. Clear all elements from a set.\n",
    "my_set.clear()\n",
    "print(my_set)\n",
    "\n",
    "#7.Create a set of even numbers from 1 to 10.\n",
    "even_numbers_set = {2, 4, 6, 8, 10}\n",
    "print(even_numbers_set)\n",
    "\n",
    "#8.Create a set of odd numbers from 1 to 10.\n",
    "odd_numbers_set = {1, 3, 5, 7, 9}\n",
    "print(odd_numbers_set)\n",
    "\n",
    "#9. Find the union of two sets.\n",
    "set1 = {1, 2, 3, 4, 5}\n",
    "set2 = {4, 5, 6, 7, 8}\n",
    "\n",
    "union_set_method = set1.union(set2)\n",
    "union_set_operator = set1 | set2\n",
    "print(\"Union using union() method:\", union_set_method)\n",
    "print(\"Union using | operator:\", union_set_operator)\n",
    "\n",
    "#10. Find the intersection of two sets.\n",
    "intersection_set_method = set1.intersection(set2)\n",
    "\n",
    "# Using & operator\n",
    "intersection_set_operator = set1 & set2\n",
    "print(\"Intersection using intersection() method:\", intersection_set_method)\n",
    "print(\"Intersection using & operator:\", intersection_set_operator)\n",
    "\n",
    "#11. Find the difference between two sets.\n",
    "\n",
    "# Using difference() method\n",
    "difference_set_method = set1.difference(set2)\n",
    "# Using - operator\n",
    "difference_set_operator = set1 - set2\n",
    "\n",
    "print(\"Difference using difference() method:\", difference_set_method)\n",
    "print(\"Difference using - operator:\", difference_set_operator)\n",
    "\n",
    "#12. Check if a set is a subset of another set.\n",
    "is_subset_method = set2.issubset(set1)\n",
    "\n",
    "# Using <= operator\n",
    "is_subset_operator = set2 <= set1\n",
    "\n",
    "print(\"Using issubset() method:\", is_subset_method)\n",
    "print(\"Using <= operator:\", is_subset_operator)\n",
    "\n",
    "#13. Check if a set is a superset of another set.\n",
    "is_superset_method = set1.issuperset(set2)\n",
    "\n",
    "# Using >= operator\n",
    "is_superset_operator = set1 >= set2\n",
    "\n",
    "print(\"Using issuperset() method:\", is_superset_method)\n",
    "print(\"Using >= operator:\", is_superset_operator)\n",
    "\n",
    "#14. Create a set from a list.\n",
    "# Creating a set from the list\n",
    "my_set = set(my_list)\n",
    "print(my_set)\n",
    "\n",
    "#15. Convert a set to a list.\n",
    "my_list = list(my_set)\n",
    "print(my_list)\n",
    "\n",
    "#16. Remove a random element from a set.\n",
    "removed_element = my_set.pop()\n",
    "print(f\"Removed element: {removed_element}\")\n",
    "print(f\"Updated set: {my_set}\")\n",
    "\n",
    "#17. Pop an element from a set.\n",
    "popped_element = my_set.pop()\n",
    "print(f\"Popped element: {popped_element}\")\n",
    "print(f\"Updated set: {my_set}\")\n",
    "\n",
    "#18. Check if two sets have no elements in common.\n",
    "set1 = {1, 2, 3}\n",
    "set2 = {4, 5, 6}\n",
    "\n",
    "are_disjoint = set1.isdisjoint(set2)\n",
    "print(\"Are the sets disjoint?\", are_disjoint)\n",
    "\n",
    "#19. Find the symmetric difference between two sets.\n",
    "symmetric_difference_method = set1.symmetric_difference(set2)\n",
    "# Using ^ operator\n",
    "symmetric_difference_operator = set1 ^ set2\n",
    "print(\"Symmetric difference using symmetric_difference() method:\", symmetric_difference_method)\n",
    "print(\"Symmetric difference using ^ operator:\", symmetric_difference_operator)\n",
    "\n",
    "#20. Update a set with elements from another set.\n",
    "set1.update(set2)\n",
    "print(\"Updated set1:\", set1)\n",
    "\n",
    "#21. Create a set of the first 5 prime numbers.\n",
    "prime_numbers_set = {2,3,5,7,11}\n",
    "print(prime_numbers)\n",
    "\n",
    "#22. Check if two sets are identical.\n",
    "identical = set1 == set2\n",
    "print(\"Are the sets identical?\", identical)\n",
    "\n",
    "#23. Create a frozen set.\n",
    "my_frozen_set = frozenset(my_set)\n",
    "print(my_frozen_set)\n",
    "\n",
    "#24. Check if a set is disjoint with another set.\n",
    "disjoint = set1.isdisjoint(set2)\n",
    "print(\"Are the sets disjoint?\", disjoint)\n",
    "\n",
    "#25. Create a set of squares of numbers from 1 to 5.\n",
    "data_set = {1, 4, 9, 16, 25}\n",
    "squares_set = {x ** 2 for x in data_set}\n",
    "print(squares_set)\n",
    "\n",
    "#26. Filter out all even numbers from a set.\n",
    "filtered_set = {x for x in set1 if x % 2 != 0}\n",
    "print(filtered_set)\n",
    "\n",
    "#27. Multiply all elements in a set by 2.\n",
    "multiplied_set = {x * 2 for x in set1}\n",
    "print(multiplied_set)\n",
    "\n",
    "#28. Create a set of random numbers.\n",
    "random_set = set(random.sample(range(1, 11), 5))\n",
    "print(random_set)\n",
    "\n",
    "#29. Check if a set is empty.\n",
    "my_set = set()\n",
    "if not my_set:\n",
    "    print(\"The set is empty.\")\n",
    "else:\n",
    "    print(\"The set is not empty.\")\n",
    "\n",
    "#30. Create a nested set (hint: use frozenset).\n",
    "nested_set = {frozenset({1, 2}), frozenset({3, 4, 5})}\n",
    "print(nested_set)\n",
    "\n",
    "#31. Remove an element from a set using the discard method.\n",
    "\"Remove the element 3 using discard\"\n",
    "my_set.discard(3)\n",
    "print(\"Updated set:\", my_set)\n",
    "\n",
    "#32. Compare two sets.\n",
    "equal = set1 == set2\n",
    "print(\"Are the sets equal?\",equal)\n",
    "\n",
    "#33. Create a set from a string.\n",
    "my_set = set(my_string)\n",
    "print(my_set)\n",
    "\n",
    "#34. Convert a set of strings to a set of integers.\n",
    "string_set = {\"1\", \"2\", \"3\", \"4\", \"5\"}\n",
    "integer_set = {int(x) for x in string_set}\n",
    "print(integer_set)\n",
    "\n",
    "#35. Convert a set of integers to a set of strings.\n",
    "\n",
    "# Converting the set of integers to a set of strings\n",
    "string_set = {str(x) for x in set1}\n",
    "print(string_set)\n",
    "\n",
    "#36. Create a set from a tuple.\n",
    "\n",
    "my_tuple = (1, 2, 3, 4, 5)\n",
    "# Creating a set from the tuple\n",
    "my_set = set(my_tuple)\n",
    "print(my_set)\n",
    "\n",
    "#37. Convert a set to a tuple.\n",
    "\n",
    "# Converting the set to a tuple\n",
    "my_tuple = tuple(my_set)\n",
    "print(my_tuple)\n",
    "\n",
    "#38. Find the maximum value in a set.\n",
    "max_value = max(my_set)\n",
    "print(\"Maximum value:\", max_value)\n",
    "\n",
    "#39. Find the minimum value in a set.\n",
    "min_value = min(my_set)\n",
    "print(\"Minimum value:\", min_value)\n",
    "\n",
    "#40. Create a set from user input.\n",
    "\n",
    "input_string = input(\"Enter elements separated by commas: \")\n",
    "# Convert the input string to a set\n",
    "user_set = set(map(int, input_string.split(',')))\n",
    "print(\"User input set:\", user_set)\n",
    "\n",
    "#41.Check if the intersection of two sets is empty.\n",
    "intersection_empty = set1.isdisjoint(set2)\n",
    "print(\"Is the intersection empty?\", intersection_empty)\n",
    "\n",
    "#42. Create a set of the first 5 Fibonacci numbers.\n",
    "\n",
    "def fibonacci_sequence(n):\n",
    "    fibonacci_set = set()\n",
    "    a, b = 0, 1\n",
    "    for _ in range(n):\n",
    "        fibonacci_set.add(a)\n",
    "        a, b = b, a + b\n",
    "    return fibonacci_set\n",
    "first_5_fibonacci = fibonacci_sequence(5)\n",
    "print(first_5_fibonacci)\n",
    "\n",
    "#43.Remove duplicates from a list using sets.\n",
    "unique_list = list(set(set1))\n",
    "print(\"Original List:\", set1)\n",
    "print(\"List with Duplicates Removed:\", unique_list)\n",
    "\n",
    "#44. Check if two sets have the same elements, regardless of their count.\n",
    "set1 = {1, 2, 3, 4, 5}\n",
    "set2 = {5, 4, 3, 2, 1}\n",
    "are_equal = set1 == set2\n",
    "print(\"Do the sets have the same elements regardless of count?\", are_equal)\n",
    "\n",
    "#45. Create a set of the first `n` powers of 2.\n",
    "n = 5\n",
    "powers_of_2_set = {2 ** i for i in range(n)}\n",
    "print(powers_of_2_set)\n",
    "\n",
    "#46. Find the common elements between a set and a list.\n",
    "my_set = {1, 2, 3, 4, 5}\n",
    "my_list = [3, 4, 5, 6, 7]\n",
    "\n",
    "common_elements_method = my_set.intersection(my_list)\n",
    "common_elements_operator = my_set & set(my_list)\n",
    "\n",
    "print(\"Common elements using intersection() method:\", common_elements_method)\n",
    "print(\"Common elements using & operator:\", common_elements_operator)\n",
    "\n",
    "#47. Create a set of the first `n` triangular numbers.\n",
    "n = 5\n",
    "triangular_numbers_set = {(i * (i + 1)) // 2 for i in range(1, n + 1)}\n",
    "print(triangular_numbers_set)\n",
    "\n",
    "#48. Check if a set contains another set as a subset.\n",
    "is_subset_method = set2.issubset(set1)\n",
    "is_subset_operator = set2 <= set1\n",
    "print(\"Is set2 a subset of set1 using issubset() method?\", is_subset_method)\n",
    "print(\"Is set2 a subset of set1 using <= operator?\", is_subset_operator)\n",
    "\n",
    "#49. Create a set of alternating 1s and 0s of length `n`.\n",
    "n = 15\n",
    "alternating_set = {i % 2 for i in range(n)}\n",
    "print(alternating_set)\n",
    "\n",
    "#50. Merge multiple sets into one.\n",
    "set1 = {1, 2, 3}\n",
    "set2 = {3, 4, 5}\n",
    "set3 = {5, 6, 7}\n",
    "\n",
    "merged_set_method = set1.union(set2, set3)\n",
    "\n",
    "merged_set_operator = set1 | set2 | set3\n",
    "\n",
    "print(\"Merged set using union() method:\", merged_set_method)\n",
    "print(\"Merged set using | operator:\", merged_set_operator)\n"
   ]
  },
  {
   "cell_type": "code",
   "execution_count": null,
   "id": "7bb3a2b1",
   "metadata": {},
   "outputs": [],
   "source": []
  }
 ],
 "metadata": {
  "kernelspec": {
   "display_name": "Python 3 (ipykernel)",
   "language": "python",
   "name": "python3"
  },
  "language_info": {
   "codemirror_mode": {
    "name": "ipython",
    "version": 3
   },
   "file_extension": ".py",
   "mimetype": "text/x-python",
   "name": "python",
   "nbconvert_exporter": "python",
   "pygments_lexer": "ipython3",
   "version": "3.11.5"
  }
 },
 "nbformat": 4,
 "nbformat_minor": 5
}
